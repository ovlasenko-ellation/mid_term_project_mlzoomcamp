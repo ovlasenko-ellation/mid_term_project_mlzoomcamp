{
 "cells": [
  {
   "cell_type": "code",
   "execution_count": 95,
   "metadata": {
    "id": "pjEJXOlvCarc"
   },
   "outputs": [],
   "source": [
    "import numpy as np\n",
    "import pandas as pd\n",
    "import matplotlib.pyplot as plt\n",
    "from sklearn.model_selection import train_test_split\n",
    "from sklearn.feature_extraction import DictVectorizer\n",
    "\n",
    "import seaborn as sns\n",
    "from matplotlib import pyplot as plt\n",
    "%matplotlib inline"
   ]
  },
  {
   "cell_type": "code",
   "execution_count": 96,
   "metadata": {
    "colab": {
     "base_uri": "https://localhost:8080/",
     "height": 346
    },
    "id": "YHrNqOYfGJuw",
    "outputId": "b76993eb-d0f4-4ded-a6a6-bfe623c789a1"
   },
   "outputs": [
    {
     "data": {
      "text/html": [
       "<div>\n",
       "<style scoped>\n",
       "    .dataframe tbody tr th:only-of-type {\n",
       "        vertical-align: middle;\n",
       "    }\n",
       "\n",
       "    .dataframe tbody tr th {\n",
       "        vertical-align: top;\n",
       "    }\n",
       "\n",
       "    .dataframe thead th {\n",
       "        text-align: right;\n",
       "    }\n",
       "</style>\n",
       "<table border=\"1\" class=\"dataframe\">\n",
       "  <thead>\n",
       "    <tr style=\"text-align: right;\">\n",
       "      <th></th>\n",
       "      <th>Time</th>\n",
       "      <th>Date</th>\n",
       "      <th>Day of the week</th>\n",
       "      <th>CarCount</th>\n",
       "      <th>BikeCount</th>\n",
       "      <th>BusCount</th>\n",
       "      <th>TruckCount</th>\n",
       "      <th>Total</th>\n",
       "      <th>Traffic Situation</th>\n",
       "    </tr>\n",
       "  </thead>\n",
       "  <tbody>\n",
       "    <tr>\n",
       "      <th>0</th>\n",
       "      <td>12:00:00 AM</td>\n",
       "      <td>10</td>\n",
       "      <td>Tuesday</td>\n",
       "      <td>31</td>\n",
       "      <td>0</td>\n",
       "      <td>4</td>\n",
       "      <td>4</td>\n",
       "      <td>39</td>\n",
       "      <td>low</td>\n",
       "    </tr>\n",
       "    <tr>\n",
       "      <th>1</th>\n",
       "      <td>12:15:00 AM</td>\n",
       "      <td>10</td>\n",
       "      <td>Tuesday</td>\n",
       "      <td>49</td>\n",
       "      <td>0</td>\n",
       "      <td>3</td>\n",
       "      <td>3</td>\n",
       "      <td>55</td>\n",
       "      <td>low</td>\n",
       "    </tr>\n",
       "    <tr>\n",
       "      <th>2</th>\n",
       "      <td>12:30:00 AM</td>\n",
       "      <td>10</td>\n",
       "      <td>Tuesday</td>\n",
       "      <td>46</td>\n",
       "      <td>0</td>\n",
       "      <td>3</td>\n",
       "      <td>6</td>\n",
       "      <td>55</td>\n",
       "      <td>low</td>\n",
       "    </tr>\n",
       "    <tr>\n",
       "      <th>3</th>\n",
       "      <td>12:45:00 AM</td>\n",
       "      <td>10</td>\n",
       "      <td>Tuesday</td>\n",
       "      <td>51</td>\n",
       "      <td>0</td>\n",
       "      <td>2</td>\n",
       "      <td>5</td>\n",
       "      <td>58</td>\n",
       "      <td>low</td>\n",
       "    </tr>\n",
       "    <tr>\n",
       "      <th>4</th>\n",
       "      <td>1:00:00 AM</td>\n",
       "      <td>10</td>\n",
       "      <td>Tuesday</td>\n",
       "      <td>57</td>\n",
       "      <td>6</td>\n",
       "      <td>15</td>\n",
       "      <td>16</td>\n",
       "      <td>94</td>\n",
       "      <td>normal</td>\n",
       "    </tr>\n",
       "    <tr>\n",
       "      <th>...</th>\n",
       "      <td>...</td>\n",
       "      <td>...</td>\n",
       "      <td>...</td>\n",
       "      <td>...</td>\n",
       "      <td>...</td>\n",
       "      <td>...</td>\n",
       "      <td>...</td>\n",
       "      <td>...</td>\n",
       "      <td>...</td>\n",
       "    </tr>\n",
       "    <tr>\n",
       "      <th>2971</th>\n",
       "      <td>10:45:00 PM</td>\n",
       "      <td>9</td>\n",
       "      <td>Thursday</td>\n",
       "      <td>16</td>\n",
       "      <td>3</td>\n",
       "      <td>1</td>\n",
       "      <td>36</td>\n",
       "      <td>56</td>\n",
       "      <td>normal</td>\n",
       "    </tr>\n",
       "    <tr>\n",
       "      <th>2972</th>\n",
       "      <td>11:00:00 PM</td>\n",
       "      <td>9</td>\n",
       "      <td>Thursday</td>\n",
       "      <td>11</td>\n",
       "      <td>0</td>\n",
       "      <td>1</td>\n",
       "      <td>30</td>\n",
       "      <td>42</td>\n",
       "      <td>normal</td>\n",
       "    </tr>\n",
       "    <tr>\n",
       "      <th>2973</th>\n",
       "      <td>11:15:00 PM</td>\n",
       "      <td>9</td>\n",
       "      <td>Thursday</td>\n",
       "      <td>15</td>\n",
       "      <td>4</td>\n",
       "      <td>1</td>\n",
       "      <td>25</td>\n",
       "      <td>45</td>\n",
       "      <td>normal</td>\n",
       "    </tr>\n",
       "    <tr>\n",
       "      <th>2974</th>\n",
       "      <td>11:30:00 PM</td>\n",
       "      <td>9</td>\n",
       "      <td>Thursday</td>\n",
       "      <td>16</td>\n",
       "      <td>5</td>\n",
       "      <td>0</td>\n",
       "      <td>27</td>\n",
       "      <td>48</td>\n",
       "      <td>normal</td>\n",
       "    </tr>\n",
       "    <tr>\n",
       "      <th>2975</th>\n",
       "      <td>11:45:00 PM</td>\n",
       "      <td>9</td>\n",
       "      <td>Thursday</td>\n",
       "      <td>14</td>\n",
       "      <td>3</td>\n",
       "      <td>1</td>\n",
       "      <td>15</td>\n",
       "      <td>33</td>\n",
       "      <td>normal</td>\n",
       "    </tr>\n",
       "  </tbody>\n",
       "</table>\n",
       "<p>2976 rows × 9 columns</p>\n",
       "</div>"
      ],
      "text/plain": [
       "             Time  Date Day of the week  CarCount  BikeCount  BusCount  \\\n",
       "0     12:00:00 AM    10         Tuesday        31          0         4   \n",
       "1     12:15:00 AM    10         Tuesday        49          0         3   \n",
       "2     12:30:00 AM    10         Tuesday        46          0         3   \n",
       "3     12:45:00 AM    10         Tuesday        51          0         2   \n",
       "4      1:00:00 AM    10         Tuesday        57          6        15   \n",
       "...           ...   ...             ...       ...        ...       ...   \n",
       "2971  10:45:00 PM     9        Thursday        16          3         1   \n",
       "2972  11:00:00 PM     9        Thursday        11          0         1   \n",
       "2973  11:15:00 PM     9        Thursday        15          4         1   \n",
       "2974  11:30:00 PM     9        Thursday        16          5         0   \n",
       "2975  11:45:00 PM     9        Thursday        14          3         1   \n",
       "\n",
       "      TruckCount  Total Traffic Situation  \n",
       "0              4     39               low  \n",
       "1              3     55               low  \n",
       "2              6     55               low  \n",
       "3              5     58               low  \n",
       "4             16     94            normal  \n",
       "...          ...    ...               ...  \n",
       "2971          36     56            normal  \n",
       "2972          30     42            normal  \n",
       "2973          25     45            normal  \n",
       "2974          27     48            normal  \n",
       "2975          15     33            normal  \n",
       "\n",
       "[2976 rows x 9 columns]"
      ]
     },
     "execution_count": 96,
     "metadata": {},
     "output_type": "execute_result"
    }
   ],
   "source": [
    "data = pd.read_csv(\"Traffic.csv\")\n",
    "data"
   ]
  },
  {
   "cell_type": "markdown",
   "metadata": {
    "id": "6snINxhrH2uS"
   },
   "source": [
    "# **Preparing dataset **"
   ]
  },
  {
   "cell_type": "code",
   "execution_count": 97,
   "metadata": {
    "colab": {
     "base_uri": "https://localhost:8080/",
     "height": 197
    },
    "id": "enfF4apbO414",
    "outputId": "599ddd62-6afd-4fa8-cefc-2216658d28c0"
   },
   "outputs": [
    {
     "data": {
      "text/html": [
       "<div>\n",
       "<style scoped>\n",
       "    .dataframe tbody tr th:only-of-type {\n",
       "        vertical-align: middle;\n",
       "    }\n",
       "\n",
       "    .dataframe tbody tr th {\n",
       "        vertical-align: top;\n",
       "    }\n",
       "\n",
       "    .dataframe thead th {\n",
       "        text-align: right;\n",
       "    }\n",
       "</style>\n",
       "<table border=\"1\" class=\"dataframe\">\n",
       "  <thead>\n",
       "    <tr style=\"text-align: right;\">\n",
       "      <th></th>\n",
       "      <th>time</th>\n",
       "      <th>date</th>\n",
       "      <th>day_of_the_week</th>\n",
       "      <th>carcount</th>\n",
       "      <th>bikecount</th>\n",
       "      <th>buscount</th>\n",
       "      <th>truckcount</th>\n",
       "      <th>total</th>\n",
       "      <th>traffic_situation</th>\n",
       "    </tr>\n",
       "  </thead>\n",
       "  <tbody>\n",
       "    <tr>\n",
       "      <th>0</th>\n",
       "      <td>12:00:00 AM</td>\n",
       "      <td>10</td>\n",
       "      <td>Tuesday</td>\n",
       "      <td>31</td>\n",
       "      <td>0</td>\n",
       "      <td>4</td>\n",
       "      <td>4</td>\n",
       "      <td>39</td>\n",
       "      <td>low</td>\n",
       "    </tr>\n",
       "    <tr>\n",
       "      <th>1</th>\n",
       "      <td>12:15:00 AM</td>\n",
       "      <td>10</td>\n",
       "      <td>Tuesday</td>\n",
       "      <td>49</td>\n",
       "      <td>0</td>\n",
       "      <td>3</td>\n",
       "      <td>3</td>\n",
       "      <td>55</td>\n",
       "      <td>low</td>\n",
       "    </tr>\n",
       "    <tr>\n",
       "      <th>2</th>\n",
       "      <td>12:30:00 AM</td>\n",
       "      <td>10</td>\n",
       "      <td>Tuesday</td>\n",
       "      <td>46</td>\n",
       "      <td>0</td>\n",
       "      <td>3</td>\n",
       "      <td>6</td>\n",
       "      <td>55</td>\n",
       "      <td>low</td>\n",
       "    </tr>\n",
       "    <tr>\n",
       "      <th>3</th>\n",
       "      <td>12:45:00 AM</td>\n",
       "      <td>10</td>\n",
       "      <td>Tuesday</td>\n",
       "      <td>51</td>\n",
       "      <td>0</td>\n",
       "      <td>2</td>\n",
       "      <td>5</td>\n",
       "      <td>58</td>\n",
       "      <td>low</td>\n",
       "    </tr>\n",
       "    <tr>\n",
       "      <th>4</th>\n",
       "      <td>1:00:00 AM</td>\n",
       "      <td>10</td>\n",
       "      <td>Tuesday</td>\n",
       "      <td>57</td>\n",
       "      <td>6</td>\n",
       "      <td>15</td>\n",
       "      <td>16</td>\n",
       "      <td>94</td>\n",
       "      <td>normal</td>\n",
       "    </tr>\n",
       "    <tr>\n",
       "      <th>...</th>\n",
       "      <td>...</td>\n",
       "      <td>...</td>\n",
       "      <td>...</td>\n",
       "      <td>...</td>\n",
       "      <td>...</td>\n",
       "      <td>...</td>\n",
       "      <td>...</td>\n",
       "      <td>...</td>\n",
       "      <td>...</td>\n",
       "    </tr>\n",
       "    <tr>\n",
       "      <th>2971</th>\n",
       "      <td>10:45:00 PM</td>\n",
       "      <td>9</td>\n",
       "      <td>Thursday</td>\n",
       "      <td>16</td>\n",
       "      <td>3</td>\n",
       "      <td>1</td>\n",
       "      <td>36</td>\n",
       "      <td>56</td>\n",
       "      <td>normal</td>\n",
       "    </tr>\n",
       "    <tr>\n",
       "      <th>2972</th>\n",
       "      <td>11:00:00 PM</td>\n",
       "      <td>9</td>\n",
       "      <td>Thursday</td>\n",
       "      <td>11</td>\n",
       "      <td>0</td>\n",
       "      <td>1</td>\n",
       "      <td>30</td>\n",
       "      <td>42</td>\n",
       "      <td>normal</td>\n",
       "    </tr>\n",
       "    <tr>\n",
       "      <th>2973</th>\n",
       "      <td>11:15:00 PM</td>\n",
       "      <td>9</td>\n",
       "      <td>Thursday</td>\n",
       "      <td>15</td>\n",
       "      <td>4</td>\n",
       "      <td>1</td>\n",
       "      <td>25</td>\n",
       "      <td>45</td>\n",
       "      <td>normal</td>\n",
       "    </tr>\n",
       "    <tr>\n",
       "      <th>2974</th>\n",
       "      <td>11:30:00 PM</td>\n",
       "      <td>9</td>\n",
       "      <td>Thursday</td>\n",
       "      <td>16</td>\n",
       "      <td>5</td>\n",
       "      <td>0</td>\n",
       "      <td>27</td>\n",
       "      <td>48</td>\n",
       "      <td>normal</td>\n",
       "    </tr>\n",
       "    <tr>\n",
       "      <th>2975</th>\n",
       "      <td>11:45:00 PM</td>\n",
       "      <td>9</td>\n",
       "      <td>Thursday</td>\n",
       "      <td>14</td>\n",
       "      <td>3</td>\n",
       "      <td>1</td>\n",
       "      <td>15</td>\n",
       "      <td>33</td>\n",
       "      <td>normal</td>\n",
       "    </tr>\n",
       "  </tbody>\n",
       "</table>\n",
       "<p>2976 rows × 9 columns</p>\n",
       "</div>"
      ],
      "text/plain": [
       "             time  date day_of_the_week  carcount  bikecount  buscount  \\\n",
       "0     12:00:00 AM    10         Tuesday        31          0         4   \n",
       "1     12:15:00 AM    10         Tuesday        49          0         3   \n",
       "2     12:30:00 AM    10         Tuesday        46          0         3   \n",
       "3     12:45:00 AM    10         Tuesday        51          0         2   \n",
       "4      1:00:00 AM    10         Tuesday        57          6        15   \n",
       "...           ...   ...             ...       ...        ...       ...   \n",
       "2971  10:45:00 PM     9        Thursday        16          3         1   \n",
       "2972  11:00:00 PM     9        Thursday        11          0         1   \n",
       "2973  11:15:00 PM     9        Thursday        15          4         1   \n",
       "2974  11:30:00 PM     9        Thursday        16          5         0   \n",
       "2975  11:45:00 PM     9        Thursday        14          3         1   \n",
       "\n",
       "      truckcount  total traffic_situation  \n",
       "0              4     39               low  \n",
       "1              3     55               low  \n",
       "2              6     55               low  \n",
       "3              5     58               low  \n",
       "4             16     94            normal  \n",
       "...          ...    ...               ...  \n",
       "2971          36     56            normal  \n",
       "2972          30     42            normal  \n",
       "2973          25     45            normal  \n",
       "2974          27     48            normal  \n",
       "2975          15     33            normal  \n",
       "\n",
       "[2976 rows x 9 columns]"
      ]
     },
     "execution_count": 97,
     "metadata": {},
     "output_type": "execute_result"
    }
   ],
   "source": [
    "data.columns = data.columns.str.lower().str.replace(' ', '_')\n",
    "data"
   ]
  },
  {
   "cell_type": "code",
   "execution_count": 98,
   "metadata": {
    "colab": {
     "base_uri": "https://localhost:8080/"
    },
    "id": "3dNVF58rH4bI",
    "outputId": "d2c055eb-4c01-4261-bd44-f16b164a3894"
   },
   "outputs": [
    {
     "data": {
      "text/plain": [
       "time                 0\n",
       "date                 0\n",
       "day_of_the_week      0\n",
       "carcount             0\n",
       "bikecount            0\n",
       "buscount             0\n",
       "truckcount           0\n",
       "total                0\n",
       "traffic_situation    0\n",
       "dtype: int64"
      ]
     },
     "execution_count": 98,
     "metadata": {},
     "output_type": "execute_result"
    }
   ],
   "source": [
    "data.isnull().sum()"
   ]
  },
  {
   "cell_type": "markdown",
   "metadata": {},
   "source": [
    "# Feature Engineering for Logistic Regression optimization"
   ]
  },
  {
   "cell_type": "code",
   "execution_count": 99,
   "metadata": {
    "colab": {
     "base_uri": "https://localhost:8080/",
     "height": 250
    },
    "id": "XWIYk65tQ5HR",
    "outputId": "2e363662-2d2d-411e-f823-3f5d08c00be7"
   },
   "outputs": [
    {
     "data": {
      "text/html": [
       "<div>\n",
       "<style scoped>\n",
       "    .dataframe tbody tr th:only-of-type {\n",
       "        vertical-align: middle;\n",
       "    }\n",
       "\n",
       "    .dataframe tbody tr th {\n",
       "        vertical-align: top;\n",
       "    }\n",
       "\n",
       "    .dataframe thead th {\n",
       "        text-align: right;\n",
       "    }\n",
       "</style>\n",
       "<table border=\"1\" class=\"dataframe\">\n",
       "  <thead>\n",
       "    <tr style=\"text-align: right;\">\n",
       "      <th></th>\n",
       "      <th>time</th>\n",
       "      <th>date</th>\n",
       "      <th>day_of_the_week</th>\n",
       "      <th>carcount</th>\n",
       "      <th>bikecount</th>\n",
       "      <th>buscount</th>\n",
       "      <th>truckcount</th>\n",
       "      <th>total</th>\n",
       "      <th>traffic_situation</th>\n",
       "      <th>time_new</th>\n",
       "      <th>hour</th>\n",
       "      <th>minute</th>\n",
       "      <th>second</th>\n",
       "      <th>weekend</th>\n",
       "      <th>is_morning</th>\n",
       "      <th>is_night</th>\n",
       "      <th>is_day</th>\n",
       "      <th>is_evening</th>\n",
       "    </tr>\n",
       "  </thead>\n",
       "  <tbody>\n",
       "    <tr>\n",
       "      <th>0</th>\n",
       "      <td>12:00:00 AM</td>\n",
       "      <td>10</td>\n",
       "      <td>Tuesday</td>\n",
       "      <td>31</td>\n",
       "      <td>0</td>\n",
       "      <td>4</td>\n",
       "      <td>4</td>\n",
       "      <td>39</td>\n",
       "      <td>low</td>\n",
       "      <td>1900-01-01 00:00:00</td>\n",
       "      <td>0</td>\n",
       "      <td>0</td>\n",
       "      <td>0</td>\n",
       "      <td>0</td>\n",
       "      <td>0</td>\n",
       "      <td>1</td>\n",
       "      <td>0</td>\n",
       "      <td>0</td>\n",
       "    </tr>\n",
       "    <tr>\n",
       "      <th>1</th>\n",
       "      <td>12:15:00 AM</td>\n",
       "      <td>10</td>\n",
       "      <td>Tuesday</td>\n",
       "      <td>49</td>\n",
       "      <td>0</td>\n",
       "      <td>3</td>\n",
       "      <td>3</td>\n",
       "      <td>55</td>\n",
       "      <td>low</td>\n",
       "      <td>1900-01-01 00:15:00</td>\n",
       "      <td>0</td>\n",
       "      <td>15</td>\n",
       "      <td>0</td>\n",
       "      <td>0</td>\n",
       "      <td>0</td>\n",
       "      <td>1</td>\n",
       "      <td>0</td>\n",
       "      <td>0</td>\n",
       "    </tr>\n",
       "    <tr>\n",
       "      <th>2</th>\n",
       "      <td>12:30:00 AM</td>\n",
       "      <td>10</td>\n",
       "      <td>Tuesday</td>\n",
       "      <td>46</td>\n",
       "      <td>0</td>\n",
       "      <td>3</td>\n",
       "      <td>6</td>\n",
       "      <td>55</td>\n",
       "      <td>low</td>\n",
       "      <td>1900-01-01 00:30:00</td>\n",
       "      <td>0</td>\n",
       "      <td>30</td>\n",
       "      <td>0</td>\n",
       "      <td>0</td>\n",
       "      <td>0</td>\n",
       "      <td>1</td>\n",
       "      <td>0</td>\n",
       "      <td>0</td>\n",
       "    </tr>\n",
       "    <tr>\n",
       "      <th>3</th>\n",
       "      <td>12:45:00 AM</td>\n",
       "      <td>10</td>\n",
       "      <td>Tuesday</td>\n",
       "      <td>51</td>\n",
       "      <td>0</td>\n",
       "      <td>2</td>\n",
       "      <td>5</td>\n",
       "      <td>58</td>\n",
       "      <td>low</td>\n",
       "      <td>1900-01-01 00:45:00</td>\n",
       "      <td>0</td>\n",
       "      <td>45</td>\n",
       "      <td>0</td>\n",
       "      <td>0</td>\n",
       "      <td>0</td>\n",
       "      <td>1</td>\n",
       "      <td>0</td>\n",
       "      <td>0</td>\n",
       "    </tr>\n",
       "    <tr>\n",
       "      <th>4</th>\n",
       "      <td>1:00:00 AM</td>\n",
       "      <td>10</td>\n",
       "      <td>Tuesday</td>\n",
       "      <td>57</td>\n",
       "      <td>6</td>\n",
       "      <td>15</td>\n",
       "      <td>16</td>\n",
       "      <td>94</td>\n",
       "      <td>normal</td>\n",
       "      <td>1900-01-01 01:00:00</td>\n",
       "      <td>1</td>\n",
       "      <td>0</td>\n",
       "      <td>0</td>\n",
       "      <td>0</td>\n",
       "      <td>0</td>\n",
       "      <td>1</td>\n",
       "      <td>0</td>\n",
       "      <td>0</td>\n",
       "    </tr>\n",
       "    <tr>\n",
       "      <th>...</th>\n",
       "      <td>...</td>\n",
       "      <td>...</td>\n",
       "      <td>...</td>\n",
       "      <td>...</td>\n",
       "      <td>...</td>\n",
       "      <td>...</td>\n",
       "      <td>...</td>\n",
       "      <td>...</td>\n",
       "      <td>...</td>\n",
       "      <td>...</td>\n",
       "      <td>...</td>\n",
       "      <td>...</td>\n",
       "      <td>...</td>\n",
       "      <td>...</td>\n",
       "      <td>...</td>\n",
       "      <td>...</td>\n",
       "      <td>...</td>\n",
       "      <td>...</td>\n",
       "    </tr>\n",
       "    <tr>\n",
       "      <th>2971</th>\n",
       "      <td>10:45:00 PM</td>\n",
       "      <td>9</td>\n",
       "      <td>Thursday</td>\n",
       "      <td>16</td>\n",
       "      <td>3</td>\n",
       "      <td>1</td>\n",
       "      <td>36</td>\n",
       "      <td>56</td>\n",
       "      <td>normal</td>\n",
       "      <td>1900-01-01 22:45:00</td>\n",
       "      <td>22</td>\n",
       "      <td>45</td>\n",
       "      <td>0</td>\n",
       "      <td>0</td>\n",
       "      <td>0</td>\n",
       "      <td>0</td>\n",
       "      <td>0</td>\n",
       "      <td>1</td>\n",
       "    </tr>\n",
       "    <tr>\n",
       "      <th>2972</th>\n",
       "      <td>11:00:00 PM</td>\n",
       "      <td>9</td>\n",
       "      <td>Thursday</td>\n",
       "      <td>11</td>\n",
       "      <td>0</td>\n",
       "      <td>1</td>\n",
       "      <td>30</td>\n",
       "      <td>42</td>\n",
       "      <td>normal</td>\n",
       "      <td>1900-01-01 23:00:00</td>\n",
       "      <td>23</td>\n",
       "      <td>0</td>\n",
       "      <td>0</td>\n",
       "      <td>0</td>\n",
       "      <td>0</td>\n",
       "      <td>0</td>\n",
       "      <td>0</td>\n",
       "      <td>1</td>\n",
       "    </tr>\n",
       "    <tr>\n",
       "      <th>2973</th>\n",
       "      <td>11:15:00 PM</td>\n",
       "      <td>9</td>\n",
       "      <td>Thursday</td>\n",
       "      <td>15</td>\n",
       "      <td>4</td>\n",
       "      <td>1</td>\n",
       "      <td>25</td>\n",
       "      <td>45</td>\n",
       "      <td>normal</td>\n",
       "      <td>1900-01-01 23:15:00</td>\n",
       "      <td>23</td>\n",
       "      <td>15</td>\n",
       "      <td>0</td>\n",
       "      <td>0</td>\n",
       "      <td>0</td>\n",
       "      <td>0</td>\n",
       "      <td>0</td>\n",
       "      <td>1</td>\n",
       "    </tr>\n",
       "    <tr>\n",
       "      <th>2974</th>\n",
       "      <td>11:30:00 PM</td>\n",
       "      <td>9</td>\n",
       "      <td>Thursday</td>\n",
       "      <td>16</td>\n",
       "      <td>5</td>\n",
       "      <td>0</td>\n",
       "      <td>27</td>\n",
       "      <td>48</td>\n",
       "      <td>normal</td>\n",
       "      <td>1900-01-01 23:30:00</td>\n",
       "      <td>23</td>\n",
       "      <td>30</td>\n",
       "      <td>0</td>\n",
       "      <td>0</td>\n",
       "      <td>0</td>\n",
       "      <td>0</td>\n",
       "      <td>0</td>\n",
       "      <td>1</td>\n",
       "    </tr>\n",
       "    <tr>\n",
       "      <th>2975</th>\n",
       "      <td>11:45:00 PM</td>\n",
       "      <td>9</td>\n",
       "      <td>Thursday</td>\n",
       "      <td>14</td>\n",
       "      <td>3</td>\n",
       "      <td>1</td>\n",
       "      <td>15</td>\n",
       "      <td>33</td>\n",
       "      <td>normal</td>\n",
       "      <td>1900-01-01 23:45:00</td>\n",
       "      <td>23</td>\n",
       "      <td>45</td>\n",
       "      <td>0</td>\n",
       "      <td>0</td>\n",
       "      <td>0</td>\n",
       "      <td>0</td>\n",
       "      <td>0</td>\n",
       "      <td>1</td>\n",
       "    </tr>\n",
       "  </tbody>\n",
       "</table>\n",
       "<p>2976 rows × 18 columns</p>\n",
       "</div>"
      ],
      "text/plain": [
       "             time  date day_of_the_week  carcount  bikecount  buscount  \\\n",
       "0     12:00:00 AM    10         Tuesday        31          0         4   \n",
       "1     12:15:00 AM    10         Tuesday        49          0         3   \n",
       "2     12:30:00 AM    10         Tuesday        46          0         3   \n",
       "3     12:45:00 AM    10         Tuesday        51          0         2   \n",
       "4      1:00:00 AM    10         Tuesday        57          6        15   \n",
       "...           ...   ...             ...       ...        ...       ...   \n",
       "2971  10:45:00 PM     9        Thursday        16          3         1   \n",
       "2972  11:00:00 PM     9        Thursday        11          0         1   \n",
       "2973  11:15:00 PM     9        Thursday        15          4         1   \n",
       "2974  11:30:00 PM     9        Thursday        16          5         0   \n",
       "2975  11:45:00 PM     9        Thursday        14          3         1   \n",
       "\n",
       "      truckcount  total traffic_situation            time_new  hour  minute  \\\n",
       "0              4     39               low 1900-01-01 00:00:00     0       0   \n",
       "1              3     55               low 1900-01-01 00:15:00     0      15   \n",
       "2              6     55               low 1900-01-01 00:30:00     0      30   \n",
       "3              5     58               low 1900-01-01 00:45:00     0      45   \n",
       "4             16     94            normal 1900-01-01 01:00:00     1       0   \n",
       "...          ...    ...               ...                 ...   ...     ...   \n",
       "2971          36     56            normal 1900-01-01 22:45:00    22      45   \n",
       "2972          30     42            normal 1900-01-01 23:00:00    23       0   \n",
       "2973          25     45            normal 1900-01-01 23:15:00    23      15   \n",
       "2974          27     48            normal 1900-01-01 23:30:00    23      30   \n",
       "2975          15     33            normal 1900-01-01 23:45:00    23      45   \n",
       "\n",
       "      second  weekend  is_morning  is_night  is_day  is_evening  \n",
       "0          0        0           0         1       0           0  \n",
       "1          0        0           0         1       0           0  \n",
       "2          0        0           0         1       0           0  \n",
       "3          0        0           0         1       0           0  \n",
       "4          0        0           0         1       0           0  \n",
       "...      ...      ...         ...       ...     ...         ...  \n",
       "2971       0        0           0         0       0           1  \n",
       "2972       0        0           0         0       0           1  \n",
       "2973       0        0           0         0       0           1  \n",
       "2974       0        0           0         0       0           1  \n",
       "2975       0        0           0         0       0           1  \n",
       "\n",
       "[2976 rows x 18 columns]"
      ]
     },
     "execution_count": 99,
     "metadata": {},
     "output_type": "execute_result"
    }
   ],
   "source": [
    "# Convert the 'Time' column to a datetime object\n",
    "data['time_new'] = pd.to_datetime(data['time'], format='%I:%M:%S %p')\n",
    "\n",
    "# Extract hour, minute, and second\n",
    "data['hour'] = data['time_new'].dt.hour\n",
    "data['minute'] = data['time_new'].dt.minute\n",
    "data['second'] = data['time_new'].dt.second\n",
    "\n",
    "#Add new feature Weekend (True, false)\n",
    "data['weekend'] = data['day_of_the_week'].apply(lambda x: 1 if x in ['Saturday', 'Sunday'] else 0)\n",
    "\n",
    "#Add new features for parts of a day \n",
    "data['is_morning'] = data['hour'].apply(lambda x: 1 if x in range(6,12) else 0)\n",
    "data['is_night'] = data['hour'].apply(lambda x: 1 if x in range(0,6) else 0)\n",
    "data['is_day'] = data['hour'].apply(lambda x: 1 if x in range(12,18) else 0)\n",
    "data['is_evening'] = data['hour'].apply(lambda x: 1 if x in range(18,24) else 0)\n",
    "\n",
    "data"
   ]
  },
  {
   "cell_type": "code",
   "execution_count": 100,
   "metadata": {
    "id": "XSPAY5cHXhXT"
   },
   "outputs": [],
   "source": [
    "day_mapping = {\n",
    "    'Monday': 1,\n",
    "    'Tuesday': 2,\n",
    "    'Wednesday': 3,\n",
    "    'Thursday': 4,\n",
    "    'Friday': 5,\n",
    "    'Saturday': 6,\n",
    "    'Sunday': 7,\n",
    "}\n",
    "\n",
    "#data['day_of_the_week'] = data['day_of_the_week'].replace(day_mapping)"
   ]
  },
  {
   "cell_type": "code",
   "execution_count": 101,
   "metadata": {},
   "outputs": [],
   "source": [
    "#heavy_traffic_data = data[data['traffic_situation'] == 'low']\n",
    "#heavy_traffic_data\n"
   ]
  },
  {
   "cell_type": "code",
   "execution_count": 102,
   "metadata": {
    "id": "ExBLDubea_ve"
   },
   "outputs": [],
   "source": [
    "traffic_situation_mapping = {'low': 0, 'normal': 1, 'high': 2, 'heavy':3}\n",
    "data['traffic_situation'].replace(traffic_situation_mapping, inplace=True)"
   ]
  },
  {
   "cell_type": "code",
   "execution_count": 103,
   "metadata": {
    "colab": {
     "base_uri": "https://localhost:8080/"
    },
    "id": "S8bk_C3UTtb4",
    "outputId": "ead77398-e81d-4845-cbef-7a43999ecfc0"
   },
   "outputs": [
    {
     "name": "stdout",
     "output_type": "stream",
     "text": [
      "time\n",
      "['12:00:00 AM' '12:15:00 AM' '12:30:00 AM' '12:45:00 AM' '1:00:00 AM']\n",
      "96\n",
      "\n",
      "date\n",
      "[10 11 12 13 14]\n",
      "31\n",
      "\n",
      "day_of_the_week\n",
      "['Tuesday' 'Wednesday' 'Thursday' 'Friday' 'Saturday']\n",
      "7\n",
      "\n",
      "carcount\n",
      "[31 49 46 51 57]\n",
      "172\n",
      "\n",
      "bikecount\n",
      "[ 0  6  4 22 16]\n",
      "71\n",
      "\n",
      "buscount\n",
      "[ 4  3  2 15  5]\n",
      "51\n",
      "\n",
      "truckcount\n",
      "[ 4  3  6  5 16]\n",
      "41\n",
      "\n",
      "total\n",
      "[39 55 58 94 53]\n",
      "239\n",
      "\n",
      "traffic_situation\n",
      "[0 1 3 2]\n",
      "4\n",
      "\n",
      "time_new\n",
      "<DatetimeArray>\n",
      "['1900-01-01 00:00:00', '1900-01-01 00:15:00', '1900-01-01 00:30:00',\n",
      " '1900-01-01 00:45:00', '1900-01-01 01:00:00']\n",
      "Length: 5, dtype: datetime64[ns]\n",
      "96\n",
      "\n",
      "hour\n",
      "[0 1 2 3 4]\n",
      "24\n",
      "\n",
      "minute\n",
      "[ 0 15 30 45]\n",
      "4\n",
      "\n",
      "second\n",
      "[0]\n",
      "1\n",
      "\n",
      "weekend\n",
      "[0 1]\n",
      "2\n",
      "\n",
      "is_morning\n",
      "[0 1]\n",
      "2\n",
      "\n",
      "is_night\n",
      "[1 0]\n",
      "2\n",
      "\n",
      "is_day\n",
      "[0 1]\n",
      "2\n",
      "\n",
      "is_evening\n",
      "[0 1]\n",
      "2\n",
      "\n"
     ]
    }
   ],
   "source": [
    "#Checking values in all columns\n",
    "for col in data.columns:\n",
    "    print(col)\n",
    "    print(data[col].unique()[:5])\n",
    "    print(data[col].nunique())\n",
    "    print()"
   ]
  },
  {
   "cell_type": "code",
   "execution_count": 104,
   "metadata": {
    "colab": {
     "base_uri": "https://localhost:8080/"
    },
    "id": "fXieNt5UZsSS",
    "outputId": "6895d1b5-31ff-4082-feb4-870563b68673"
   },
   "outputs": [
    {
     "data": {
      "text/plain": [
       "time                         object\n",
       "date                          int64\n",
       "day_of_the_week              object\n",
       "carcount                      int64\n",
       "bikecount                     int64\n",
       "buscount                      int64\n",
       "truckcount                    int64\n",
       "total                         int64\n",
       "traffic_situation             int64\n",
       "time_new             datetime64[ns]\n",
       "hour                          int32\n",
       "minute                        int32\n",
       "second                        int32\n",
       "weekend                       int64\n",
       "is_morning                    int64\n",
       "is_night                      int64\n",
       "is_day                        int64\n",
       "is_evening                    int64\n",
       "dtype: object"
      ]
     },
     "execution_count": 104,
     "metadata": {},
     "output_type": "execute_result"
    }
   ],
   "source": [
    "data.dtypes"
   ]
  },
  {
   "cell_type": "code",
   "execution_count": 105,
   "metadata": {
    "colab": {
     "base_uri": "https://localhost:8080/",
     "height": 424
    },
    "id": "7fY-lGfpZz01",
    "outputId": "3e6d4be8-289a-4609-fe53-9926380a8dd0"
   },
   "outputs": [
    {
     "data": {
      "text/html": [
       "<div>\n",
       "<style scoped>\n",
       "    .dataframe tbody tr th:only-of-type {\n",
       "        vertical-align: middle;\n",
       "    }\n",
       "\n",
       "    .dataframe tbody tr th {\n",
       "        vertical-align: top;\n",
       "    }\n",
       "\n",
       "    .dataframe thead th {\n",
       "        text-align: right;\n",
       "    }\n",
       "</style>\n",
       "<table border=\"1\" class=\"dataframe\">\n",
       "  <thead>\n",
       "    <tr style=\"text-align: right;\">\n",
       "      <th></th>\n",
       "      <th>date</th>\n",
       "      <th>day_of_the_week</th>\n",
       "      <th>traffic_situation</th>\n",
       "      <th>hour</th>\n",
       "      <th>minute</th>\n",
       "      <th>weekend</th>\n",
       "      <th>is_morning</th>\n",
       "      <th>is_night</th>\n",
       "      <th>is_day</th>\n",
       "      <th>is_evening</th>\n",
       "    </tr>\n",
       "  </thead>\n",
       "  <tbody>\n",
       "    <tr>\n",
       "      <th>0</th>\n",
       "      <td>10</td>\n",
       "      <td>Tuesday</td>\n",
       "      <td>0</td>\n",
       "      <td>0</td>\n",
       "      <td>0</td>\n",
       "      <td>0</td>\n",
       "      <td>0</td>\n",
       "      <td>1</td>\n",
       "      <td>0</td>\n",
       "      <td>0</td>\n",
       "    </tr>\n",
       "    <tr>\n",
       "      <th>1</th>\n",
       "      <td>10</td>\n",
       "      <td>Tuesday</td>\n",
       "      <td>0</td>\n",
       "      <td>0</td>\n",
       "      <td>15</td>\n",
       "      <td>0</td>\n",
       "      <td>0</td>\n",
       "      <td>1</td>\n",
       "      <td>0</td>\n",
       "      <td>0</td>\n",
       "    </tr>\n",
       "    <tr>\n",
       "      <th>2</th>\n",
       "      <td>10</td>\n",
       "      <td>Tuesday</td>\n",
       "      <td>0</td>\n",
       "      <td>0</td>\n",
       "      <td>30</td>\n",
       "      <td>0</td>\n",
       "      <td>0</td>\n",
       "      <td>1</td>\n",
       "      <td>0</td>\n",
       "      <td>0</td>\n",
       "    </tr>\n",
       "    <tr>\n",
       "      <th>3</th>\n",
       "      <td>10</td>\n",
       "      <td>Tuesday</td>\n",
       "      <td>0</td>\n",
       "      <td>0</td>\n",
       "      <td>45</td>\n",
       "      <td>0</td>\n",
       "      <td>0</td>\n",
       "      <td>1</td>\n",
       "      <td>0</td>\n",
       "      <td>0</td>\n",
       "    </tr>\n",
       "    <tr>\n",
       "      <th>4</th>\n",
       "      <td>10</td>\n",
       "      <td>Tuesday</td>\n",
       "      <td>1</td>\n",
       "      <td>1</td>\n",
       "      <td>0</td>\n",
       "      <td>0</td>\n",
       "      <td>0</td>\n",
       "      <td>1</td>\n",
       "      <td>0</td>\n",
       "      <td>0</td>\n",
       "    </tr>\n",
       "    <tr>\n",
       "      <th>...</th>\n",
       "      <td>...</td>\n",
       "      <td>...</td>\n",
       "      <td>...</td>\n",
       "      <td>...</td>\n",
       "      <td>...</td>\n",
       "      <td>...</td>\n",
       "      <td>...</td>\n",
       "      <td>...</td>\n",
       "      <td>...</td>\n",
       "      <td>...</td>\n",
       "    </tr>\n",
       "    <tr>\n",
       "      <th>2971</th>\n",
       "      <td>9</td>\n",
       "      <td>Thursday</td>\n",
       "      <td>1</td>\n",
       "      <td>22</td>\n",
       "      <td>45</td>\n",
       "      <td>0</td>\n",
       "      <td>0</td>\n",
       "      <td>0</td>\n",
       "      <td>0</td>\n",
       "      <td>1</td>\n",
       "    </tr>\n",
       "    <tr>\n",
       "      <th>2972</th>\n",
       "      <td>9</td>\n",
       "      <td>Thursday</td>\n",
       "      <td>1</td>\n",
       "      <td>23</td>\n",
       "      <td>0</td>\n",
       "      <td>0</td>\n",
       "      <td>0</td>\n",
       "      <td>0</td>\n",
       "      <td>0</td>\n",
       "      <td>1</td>\n",
       "    </tr>\n",
       "    <tr>\n",
       "      <th>2973</th>\n",
       "      <td>9</td>\n",
       "      <td>Thursday</td>\n",
       "      <td>1</td>\n",
       "      <td>23</td>\n",
       "      <td>15</td>\n",
       "      <td>0</td>\n",
       "      <td>0</td>\n",
       "      <td>0</td>\n",
       "      <td>0</td>\n",
       "      <td>1</td>\n",
       "    </tr>\n",
       "    <tr>\n",
       "      <th>2974</th>\n",
       "      <td>9</td>\n",
       "      <td>Thursday</td>\n",
       "      <td>1</td>\n",
       "      <td>23</td>\n",
       "      <td>30</td>\n",
       "      <td>0</td>\n",
       "      <td>0</td>\n",
       "      <td>0</td>\n",
       "      <td>0</td>\n",
       "      <td>1</td>\n",
       "    </tr>\n",
       "    <tr>\n",
       "      <th>2975</th>\n",
       "      <td>9</td>\n",
       "      <td>Thursday</td>\n",
       "      <td>1</td>\n",
       "      <td>23</td>\n",
       "      <td>45</td>\n",
       "      <td>0</td>\n",
       "      <td>0</td>\n",
       "      <td>0</td>\n",
       "      <td>0</td>\n",
       "      <td>1</td>\n",
       "    </tr>\n",
       "  </tbody>\n",
       "</table>\n",
       "<p>2976 rows × 10 columns</p>\n",
       "</div>"
      ],
      "text/plain": [
       "      date day_of_the_week  traffic_situation  hour  minute  weekend  \\\n",
       "0       10         Tuesday                  0     0       0        0   \n",
       "1       10         Tuesday                  0     0      15        0   \n",
       "2       10         Tuesday                  0     0      30        0   \n",
       "3       10         Tuesday                  0     0      45        0   \n",
       "4       10         Tuesday                  1     1       0        0   \n",
       "...    ...             ...                ...   ...     ...      ...   \n",
       "2971     9        Thursday                  1    22      45        0   \n",
       "2972     9        Thursday                  1    23       0        0   \n",
       "2973     9        Thursday                  1    23      15        0   \n",
       "2974     9        Thursday                  1    23      30        0   \n",
       "2975     9        Thursday                  1    23      45        0   \n",
       "\n",
       "      is_morning  is_night  is_day  is_evening  \n",
       "0              0         1       0           0  \n",
       "1              0         1       0           0  \n",
       "2              0         1       0           0  \n",
       "3              0         1       0           0  \n",
       "4              0         1       0           0  \n",
       "...          ...       ...     ...         ...  \n",
       "2971           0         0       0           1  \n",
       "2972           0         0       0           1  \n",
       "2973           0         0       0           1  \n",
       "2974           0         0       0           1  \n",
       "2975           0         0       0           1  \n",
       "\n",
       "[2976 rows x 10 columns]"
      ]
     },
     "execution_count": 105,
     "metadata": {},
     "output_type": "execute_result"
    }
   ],
   "source": [
    "#selecting columns for the dataset\n",
    "dataset = data[['date', 'day_of_the_week', 'traffic_situation', 'hour',\t'minute', 'weekend', 'is_morning', 'is_night', 'is_day', 'is_evening']]\n",
    "dataset"
   ]
  },
  {
   "cell_type": "markdown",
   "metadata": {
    "id": "Cp5lIJ5Zbzlo"
   },
   "source": [
    "# Checking Feature Correlation"
   ]
  },
  {
   "cell_type": "code",
   "execution_count": 106,
   "metadata": {
    "colab": {
     "base_uri": "https://localhost:8080/",
     "height": 300
    },
    "id": "4KALP6BUcsfz",
    "outputId": "5b43ac90-c169-4887-bbb2-cc9075e37055"
   },
   "outputs": [
    {
     "data": {
      "text/html": [
       "<div>\n",
       "<style scoped>\n",
       "    .dataframe tbody tr th:only-of-type {\n",
       "        vertical-align: middle;\n",
       "    }\n",
       "\n",
       "    .dataframe tbody tr th {\n",
       "        vertical-align: top;\n",
       "    }\n",
       "\n",
       "    .dataframe thead th {\n",
       "        text-align: right;\n",
       "    }\n",
       "</style>\n",
       "<table border=\"1\" class=\"dataframe\">\n",
       "  <thead>\n",
       "    <tr style=\"text-align: right;\">\n",
       "      <th></th>\n",
       "      <th>date</th>\n",
       "      <th>traffic_situation</th>\n",
       "      <th>hour</th>\n",
       "      <th>minute</th>\n",
       "      <th>weekend</th>\n",
       "      <th>is_morning</th>\n",
       "      <th>is_night</th>\n",
       "      <th>is_day</th>\n",
       "      <th>is_evening</th>\n",
       "    </tr>\n",
       "  </thead>\n",
       "  <tbody>\n",
       "    <tr>\n",
       "      <th>count</th>\n",
       "      <td>2976.000000</td>\n",
       "      <td>2976.000000</td>\n",
       "      <td>2976.00000</td>\n",
       "      <td>2976.000000</td>\n",
       "      <td>2976.000000</td>\n",
       "      <td>2976.000000</td>\n",
       "      <td>2976.000000</td>\n",
       "      <td>2976.000000</td>\n",
       "      <td>2976.000000</td>\n",
       "    </tr>\n",
       "    <tr>\n",
       "      <th>mean</th>\n",
       "      <td>16.000000</td>\n",
       "      <td>1.464046</td>\n",
       "      <td>11.50000</td>\n",
       "      <td>22.500000</td>\n",
       "      <td>0.258065</td>\n",
       "      <td>0.250000</td>\n",
       "      <td>0.250000</td>\n",
       "      <td>0.250000</td>\n",
       "      <td>0.250000</td>\n",
       "    </tr>\n",
       "    <tr>\n",
       "      <th>std</th>\n",
       "      <td>8.945775</td>\n",
       "      <td>0.954803</td>\n",
       "      <td>6.92335</td>\n",
       "      <td>16.773328</td>\n",
       "      <td>0.437643</td>\n",
       "      <td>0.433085</td>\n",
       "      <td>0.433085</td>\n",
       "      <td>0.433085</td>\n",
       "      <td>0.433085</td>\n",
       "    </tr>\n",
       "    <tr>\n",
       "      <th>min</th>\n",
       "      <td>1.000000</td>\n",
       "      <td>0.000000</td>\n",
       "      <td>0.00000</td>\n",
       "      <td>0.000000</td>\n",
       "      <td>0.000000</td>\n",
       "      <td>0.000000</td>\n",
       "      <td>0.000000</td>\n",
       "      <td>0.000000</td>\n",
       "      <td>0.000000</td>\n",
       "    </tr>\n",
       "    <tr>\n",
       "      <th>25%</th>\n",
       "      <td>8.000000</td>\n",
       "      <td>1.000000</td>\n",
       "      <td>5.75000</td>\n",
       "      <td>11.250000</td>\n",
       "      <td>0.000000</td>\n",
       "      <td>0.000000</td>\n",
       "      <td>0.000000</td>\n",
       "      <td>0.000000</td>\n",
       "      <td>0.000000</td>\n",
       "    </tr>\n",
       "    <tr>\n",
       "      <th>50%</th>\n",
       "      <td>16.000000</td>\n",
       "      <td>1.000000</td>\n",
       "      <td>11.50000</td>\n",
       "      <td>22.500000</td>\n",
       "      <td>0.000000</td>\n",
       "      <td>0.000000</td>\n",
       "      <td>0.000000</td>\n",
       "      <td>0.000000</td>\n",
       "      <td>0.000000</td>\n",
       "    </tr>\n",
       "    <tr>\n",
       "      <th>75%</th>\n",
       "      <td>24.000000</td>\n",
       "      <td>2.000000</td>\n",
       "      <td>17.25000</td>\n",
       "      <td>33.750000</td>\n",
       "      <td>1.000000</td>\n",
       "      <td>0.250000</td>\n",
       "      <td>0.250000</td>\n",
       "      <td>0.250000</td>\n",
       "      <td>0.250000</td>\n",
       "    </tr>\n",
       "    <tr>\n",
       "      <th>max</th>\n",
       "      <td>31.000000</td>\n",
       "      <td>3.000000</td>\n",
       "      <td>23.00000</td>\n",
       "      <td>45.000000</td>\n",
       "      <td>1.000000</td>\n",
       "      <td>1.000000</td>\n",
       "      <td>1.000000</td>\n",
       "      <td>1.000000</td>\n",
       "      <td>1.000000</td>\n",
       "    </tr>\n",
       "  </tbody>\n",
       "</table>\n",
       "</div>"
      ],
      "text/plain": [
       "              date  traffic_situation        hour       minute      weekend  \\\n",
       "count  2976.000000        2976.000000  2976.00000  2976.000000  2976.000000   \n",
       "mean     16.000000           1.464046    11.50000    22.500000     0.258065   \n",
       "std       8.945775           0.954803     6.92335    16.773328     0.437643   \n",
       "min       1.000000           0.000000     0.00000     0.000000     0.000000   \n",
       "25%       8.000000           1.000000     5.75000    11.250000     0.000000   \n",
       "50%      16.000000           1.000000    11.50000    22.500000     0.000000   \n",
       "75%      24.000000           2.000000    17.25000    33.750000     1.000000   \n",
       "max      31.000000           3.000000    23.00000    45.000000     1.000000   \n",
       "\n",
       "        is_morning     is_night       is_day   is_evening  \n",
       "count  2976.000000  2976.000000  2976.000000  2976.000000  \n",
       "mean      0.250000     0.250000     0.250000     0.250000  \n",
       "std       0.433085     0.433085     0.433085     0.433085  \n",
       "min       0.000000     0.000000     0.000000     0.000000  \n",
       "25%       0.000000     0.000000     0.000000     0.000000  \n",
       "50%       0.000000     0.000000     0.000000     0.000000  \n",
       "75%       0.250000     0.250000     0.250000     0.250000  \n",
       "max       1.000000     1.000000     1.000000     1.000000  "
      ]
     },
     "execution_count": 106,
     "metadata": {},
     "output_type": "execute_result"
    }
   ],
   "source": [
    "data_numeric = data.copy()\n",
    "data_numeric = data.drop(['second', 'time_new', 'time', 'carcount', 'bikecount', 'buscount', 'truckcount', 'total'], axis=1)\n",
    "#data_numeric1 = data_numeric.copy()\n",
    "data_numeric1 = data_numeric.drop(['day_of_the_week' ], axis=1)\n",
    "data_numeric.describe()"
   ]
  },
  {
   "cell_type": "code",
   "execution_count": 107,
   "metadata": {
    "colab": {
     "base_uri": "https://localhost:8080/",
     "height": 387
    },
    "id": "sYx_sDcmcyhP",
    "outputId": "413ca691-761d-4d96-9fd2-c3c9f0f3bdae"
   },
   "outputs": [
    {
     "data": {
      "text/html": [
       "<div>\n",
       "<style scoped>\n",
       "    .dataframe tbody tr th:only-of-type {\n",
       "        vertical-align: middle;\n",
       "    }\n",
       "\n",
       "    .dataframe tbody tr th {\n",
       "        vertical-align: top;\n",
       "    }\n",
       "\n",
       "    .dataframe thead th {\n",
       "        text-align: right;\n",
       "    }\n",
       "</style>\n",
       "<table border=\"1\" class=\"dataframe\">\n",
       "  <thead>\n",
       "    <tr style=\"text-align: right;\">\n",
       "      <th></th>\n",
       "      <th>date</th>\n",
       "      <th>traffic_situation</th>\n",
       "      <th>hour</th>\n",
       "      <th>minute</th>\n",
       "      <th>weekend</th>\n",
       "      <th>is_morning</th>\n",
       "      <th>is_night</th>\n",
       "      <th>is_day</th>\n",
       "      <th>is_evening</th>\n",
       "    </tr>\n",
       "  </thead>\n",
       "  <tbody>\n",
       "    <tr>\n",
       "      <th>date</th>\n",
       "      <td>1.000000e+00</td>\n",
       "      <td>-0.007438</td>\n",
       "      <td>2.814316e-16</td>\n",
       "      <td>2.865092e-17</td>\n",
       "      <td>8.242256e-02</td>\n",
       "      <td>-4.205478e-17</td>\n",
       "      <td>-2.857914e-16</td>\n",
       "      <td>-4.513713e-17</td>\n",
       "      <td>-1.249892e-16</td>\n",
       "    </tr>\n",
       "    <tr>\n",
       "      <th>traffic_situation</th>\n",
       "      <td>-7.437779e-03</td>\n",
       "      <td>1.000000</td>\n",
       "      <td>1.001473e-01</td>\n",
       "      <td>-2.597320e-02</td>\n",
       "      <td>2.542984e-02</td>\n",
       "      <td>3.038135e-01</td>\n",
       "      <td>-3.773790e-01</td>\n",
       "      <td>1.810688e-01</td>\n",
       "      <td>-1.075032e-01</td>\n",
       "    </tr>\n",
       "    <tr>\n",
       "      <th>hour</th>\n",
       "      <td>2.814316e-16</td>\n",
       "      <td>0.100147</td>\n",
       "      <td>1.000000e+00</td>\n",
       "      <td>-1.003662e-17</td>\n",
       "      <td>-2.651986e-16</td>\n",
       "      <td>-2.502173e-01</td>\n",
       "      <td>-7.506519e-01</td>\n",
       "      <td>2.502173e-01</td>\n",
       "      <td>7.506519e-01</td>\n",
       "    </tr>\n",
       "    <tr>\n",
       "      <th>minute</th>\n",
       "      <td>2.865092e-17</td>\n",
       "      <td>-0.025973</td>\n",
       "      <td>-1.003662e-17</td>\n",
       "      <td>1.000000e+00</td>\n",
       "      <td>-5.978485e-18</td>\n",
       "      <td>-3.863209e-18</td>\n",
       "      <td>1.035669e-17</td>\n",
       "      <td>-8.959358e-18</td>\n",
       "      <td>-6.575675e-19</td>\n",
       "    </tr>\n",
       "    <tr>\n",
       "      <th>weekend</th>\n",
       "      <td>8.242256e-02</td>\n",
       "      <td>0.025430</td>\n",
       "      <td>-2.651986e-16</td>\n",
       "      <td>-5.978485e-18</td>\n",
       "      <td>1.000000e+00</td>\n",
       "      <td>-9.795408e-18</td>\n",
       "      <td>-3.182277e-17</td>\n",
       "      <td>9.258876e-17</td>\n",
       "      <td>-7.875705e-19</td>\n",
       "    </tr>\n",
       "    <tr>\n",
       "      <th>is_morning</th>\n",
       "      <td>-4.205478e-17</td>\n",
       "      <td>0.303813</td>\n",
       "      <td>-2.502173e-01</td>\n",
       "      <td>-3.863209e-18</td>\n",
       "      <td>-9.795408e-18</td>\n",
       "      <td>1.000000e+00</td>\n",
       "      <td>-3.333333e-01</td>\n",
       "      <td>-3.333333e-01</td>\n",
       "      <td>-3.333333e-01</td>\n",
       "    </tr>\n",
       "    <tr>\n",
       "      <th>is_night</th>\n",
       "      <td>-2.857914e-16</td>\n",
       "      <td>-0.377379</td>\n",
       "      <td>-7.506519e-01</td>\n",
       "      <td>1.035669e-17</td>\n",
       "      <td>-3.182277e-17</td>\n",
       "      <td>-3.333333e-01</td>\n",
       "      <td>1.000000e+00</td>\n",
       "      <td>-3.333333e-01</td>\n",
       "      <td>-3.333333e-01</td>\n",
       "    </tr>\n",
       "    <tr>\n",
       "      <th>is_day</th>\n",
       "      <td>-4.513713e-17</td>\n",
       "      <td>0.181069</td>\n",
       "      <td>2.502173e-01</td>\n",
       "      <td>-8.959358e-18</td>\n",
       "      <td>9.258876e-17</td>\n",
       "      <td>-3.333333e-01</td>\n",
       "      <td>-3.333333e-01</td>\n",
       "      <td>1.000000e+00</td>\n",
       "      <td>-3.333333e-01</td>\n",
       "    </tr>\n",
       "    <tr>\n",
       "      <th>is_evening</th>\n",
       "      <td>-1.249892e-16</td>\n",
       "      <td>-0.107503</td>\n",
       "      <td>7.506519e-01</td>\n",
       "      <td>-6.575675e-19</td>\n",
       "      <td>-7.875705e-19</td>\n",
       "      <td>-3.333333e-01</td>\n",
       "      <td>-3.333333e-01</td>\n",
       "      <td>-3.333333e-01</td>\n",
       "      <td>1.000000e+00</td>\n",
       "    </tr>\n",
       "  </tbody>\n",
       "</table>\n",
       "</div>"
      ],
      "text/plain": [
       "                           date  traffic_situation          hour  \\\n",
       "date               1.000000e+00          -0.007438  2.814316e-16   \n",
       "traffic_situation -7.437779e-03           1.000000  1.001473e-01   \n",
       "hour               2.814316e-16           0.100147  1.000000e+00   \n",
       "minute             2.865092e-17          -0.025973 -1.003662e-17   \n",
       "weekend            8.242256e-02           0.025430 -2.651986e-16   \n",
       "is_morning        -4.205478e-17           0.303813 -2.502173e-01   \n",
       "is_night          -2.857914e-16          -0.377379 -7.506519e-01   \n",
       "is_day            -4.513713e-17           0.181069  2.502173e-01   \n",
       "is_evening        -1.249892e-16          -0.107503  7.506519e-01   \n",
       "\n",
       "                         minute       weekend    is_morning      is_night  \\\n",
       "date               2.865092e-17  8.242256e-02 -4.205478e-17 -2.857914e-16   \n",
       "traffic_situation -2.597320e-02  2.542984e-02  3.038135e-01 -3.773790e-01   \n",
       "hour              -1.003662e-17 -2.651986e-16 -2.502173e-01 -7.506519e-01   \n",
       "minute             1.000000e+00 -5.978485e-18 -3.863209e-18  1.035669e-17   \n",
       "weekend           -5.978485e-18  1.000000e+00 -9.795408e-18 -3.182277e-17   \n",
       "is_morning        -3.863209e-18 -9.795408e-18  1.000000e+00 -3.333333e-01   \n",
       "is_night           1.035669e-17 -3.182277e-17 -3.333333e-01  1.000000e+00   \n",
       "is_day            -8.959358e-18  9.258876e-17 -3.333333e-01 -3.333333e-01   \n",
       "is_evening        -6.575675e-19 -7.875705e-19 -3.333333e-01 -3.333333e-01   \n",
       "\n",
       "                         is_day    is_evening  \n",
       "date              -4.513713e-17 -1.249892e-16  \n",
       "traffic_situation  1.810688e-01 -1.075032e-01  \n",
       "hour               2.502173e-01  7.506519e-01  \n",
       "minute            -8.959358e-18 -6.575675e-19  \n",
       "weekend            9.258876e-17 -7.875705e-19  \n",
       "is_morning        -3.333333e-01 -3.333333e-01  \n",
       "is_night          -3.333333e-01 -3.333333e-01  \n",
       "is_day             1.000000e+00 -3.333333e-01  \n",
       "is_evening        -3.333333e-01  1.000000e+00  "
      ]
     },
     "execution_count": 107,
     "metadata": {},
     "output_type": "execute_result"
    }
   ],
   "source": [
    "data_numeric1.corr()"
   ]
  },
  {
   "cell_type": "code",
   "execution_count": 108,
   "metadata": {
    "colab": {
     "base_uri": "https://localhost:8080/",
     "height": 706
    },
    "id": "YDTQouXVb3An",
    "outputId": "61699b02-ce02-421c-e6bd-18f57670c929"
   },
   "outputs": [
    {
     "data": {
      "image/png": "[encoded data removed]",
      "text/plain": [
       "<Figure size 900x600 with 2 Axes>"
      ]
     },
     "metadata": {},
     "output_type": "display_data"
    }
   ],
   "source": [
    "plt.figure(figsize=(9, 6))\n",
    "sns.heatmap(data_numeric1.corr(), cmap=\"summer\", annot=True, fmt='.3f')\n",
    "plt.title('Heatmap showing correlations between numerical data')\n",
    "plt.show();"
   ]
  },
  {
   "cell_type": "code",
   "execution_count": 109,
   "metadata": {
    "colab": {
     "base_uri": "https://localhost:8080/"
    },
    "id": "U_dfhFZSdKq5",
    "outputId": "08a625d1-009c-41aa-b35b-ee6f65594c5d"
   },
   "outputs": [
    {
     "data": {
      "text/plain": [
       "date               date                 1.000000\n",
       "traffic_situation  traffic_situation    1.000000\n",
       "is_day             is_day               1.000000\n",
       "is_night           is_night             1.000000\n",
       "is_morning         is_morning           1.000000\n",
       "                                          ...   \n",
       "is_evening         is_night            -0.333333\n",
       "traffic_situation  is_night            -0.377379\n",
       "is_night           traffic_situation   -0.377379\n",
       "                   hour                -0.750652\n",
       "hour               is_night            -0.750652\n",
       "Length: 81, dtype: float64"
      ]
     },
     "execution_count": 109,
     "metadata": {},
     "output_type": "execute_result"
    }
   ],
   "source": [
    "data_numeric1.corr().unstack().sort_values(ascending = False)"
   ]
  },
  {
   "cell_type": "code",
   "execution_count": 110,
   "metadata": {},
   "outputs": [],
   "source": [
    "value_counts = dataset['traffic_situation'].value_counts()"
   ]
  },
  {
   "cell_type": "code",
   "execution_count": 111,
   "metadata": {},
   "outputs": [
    {
     "data": {
      "text/plain": [
       "traffic_situation\n",
       "1    56.081989\n",
       "3    22.916667\n",
       "2    10.786290\n",
       "0    10.215054\n",
       "Name: count, dtype: float64"
      ]
     },
     "execution_count": 111,
     "metadata": {},
     "output_type": "execute_result"
    }
   ],
   "source": [
    "percentage_traffic_situation = (value_counts / len(dataset)) * 100\n",
    "percentage_traffic_situation"
   ]
  },
  {
   "cell_type": "code",
   "execution_count": 112,
   "metadata": {},
   "outputs": [
    {
     "data": {
      "text/plain": [
       "<Axes: xlabel='traffic_situation', ylabel='Count'>"
      ]
     },
     "execution_count": 112,
     "metadata": {},
     "output_type": "execute_result"
    },
    {
     "data": {
      "image/png": "[encoded data removed]",
      "text/plain": [
       "<Figure size 640x480 with 1 Axes>"
      ]
     },
     "metadata": {},
     "output_type": "display_data"
    }
   ],
   "source": [
    "sns.histplot(dataset.traffic_situation)"
   ]
  },
  {
   "cell_type": "code",
   "execution_count": 113,
   "metadata": {},
   "outputs": [
    {
     "data": {
      "image/png": "[encoded data removed]",
      "text/plain": [
       "<Figure size 1200x600 with 1 Axes>"
      ]
     },
     "metadata": {},
     "output_type": "display_data"
    }
   ],
   "source": [
    "plt.figure(figsize=(12, 6)) \n",
    "sns.histplot(data=data, x='hour', hue='traffic_situation', bins=24, kde=True, common_norm=False, discrete=True)\n",
    "\n",
    "plt.xlabel('Hour of the Day')\n",
    "plt.ylabel('Count')\n",
    "plt.title('Traffic Situation Histogram by Hour')\n",
    "\n",
    "# Show the plot\n",
    "plt.show()"
   ]
  },
  {
   "cell_type": "code",
   "execution_count": 114,
   "metadata": {},
   "outputs": [
    {
     "data": {
      "image/png": "[encoded data removed]",
      "text/plain": [
       "<Figure size 1500x1000 with 4 Axes>"
      ]
     },
     "metadata": {},
     "output_type": "display_data"
    }
   ],
   "source": [
    "traffic_situations = dataset['traffic_situation'].unique()\n",
    "plt.figure(figsize=(15, 10))\n",
    "\n",
    "for i, traffic_situation in enumerate(traffic_situations):\n",
    "    plt.subplot(2, 2, i + 1)  # Create a 2x2 grid of subplots\n",
    "    subset = data[data['traffic_situation'] == traffic_situation]\n",
    "    \n",
    "    # Create a histogram for the selected traffic situation\n",
    "    sns.histplot(data=subset, x='hour', bins=24, kde=True)\n",
    "    \n",
    "    plt.title(f'Traffic Situation: {traffic_situation}')\n",
    "    plt.xlabel('Hour of the Day')\n",
    "    plt.ylabel('Count')\n",
    "\n",
    "plt.tight_layout()  # Ensure proper spacing between subplots\n",
    "plt.show()"
   ]
  },
  {
   "cell_type": "markdown",
   "metadata": {
    "id": "z3Zs7rHPdy7h"
   },
   "source": [
    "## Split the data"
   ]
  },
  {
   "cell_type": "code",
   "execution_count": 115,
   "metadata": {
    "colab": {
     "base_uri": "https://localhost:8080/"
    },
    "id": "8mboqudJeAYA",
    "outputId": "19dad9af-bf95-4b8d-fbb0-dad0da1a813d"
   },
   "outputs": [
    {
     "data": {
      "text/plain": [
       "2976"
      ]
     },
     "execution_count": 115,
     "metadata": {},
     "output_type": "execute_result"
    }
   ],
   "source": [
    "len(dataset)"
   ]
  },
  {
   "cell_type": "code",
   "execution_count": 116,
   "metadata": {
    "id": "fm_RaIpMd2c0"
   },
   "outputs": [],
   "source": [
    "df_full_train, df_test = train_test_split(dataset, test_size=0.2, random_state=42)\n",
    "df_train, df_val = train_test_split(df_full_train, test_size=0.25, random_state=42)"
   ]
  },
  {
   "cell_type": "code",
   "execution_count": 117,
   "metadata": {
    "colab": {
     "base_uri": "https://localhost:8080/"
    },
    "id": "U6lqtnKJeMXx",
    "outputId": "ff5b235f-b752-4109-f111-ee4175120609"
   },
   "outputs": [
    {
     "data": {
      "text/plain": [
       "(1785, 595, 596)"
      ]
     },
     "execution_count": 117,
     "metadata": {},
     "output_type": "execute_result"
    }
   ],
   "source": [
    "len(df_train), len(df_val), len(df_test)"
   ]
  },
  {
   "cell_type": "code",
   "execution_count": 118,
   "metadata": {},
   "outputs": [
    {
     "data": {
      "text/html": [
       "<div>\n",
       "<style scoped>\n",
       "    .dataframe tbody tr th:only-of-type {\n",
       "        vertical-align: middle;\n",
       "    }\n",
       "\n",
       "    .dataframe tbody tr th {\n",
       "        vertical-align: top;\n",
       "    }\n",
       "\n",
       "    .dataframe thead th {\n",
       "        text-align: right;\n",
       "    }\n",
       "</style>\n",
       "<table border=\"1\" class=\"dataframe\">\n",
       "  <thead>\n",
       "    <tr style=\"text-align: right;\">\n",
       "      <th></th>\n",
       "      <th>date</th>\n",
       "      <th>day_of_the_week</th>\n",
       "      <th>traffic_situation</th>\n",
       "      <th>hour</th>\n",
       "      <th>minute</th>\n",
       "      <th>weekend</th>\n",
       "      <th>is_morning</th>\n",
       "      <th>is_night</th>\n",
       "      <th>is_day</th>\n",
       "      <th>is_evening</th>\n",
       "    </tr>\n",
       "  </thead>\n",
       "  <tbody>\n",
       "    <tr>\n",
       "      <th>2404</th>\n",
       "      <td>4</td>\n",
       "      <td>Saturday</td>\n",
       "      <td>0</td>\n",
       "      <td>1</td>\n",
       "      <td>0</td>\n",
       "      <td>1</td>\n",
       "      <td>0</td>\n",
       "      <td>1</td>\n",
       "      <td>0</td>\n",
       "      <td>0</td>\n",
       "    </tr>\n",
       "    <tr>\n",
       "      <th>2866</th>\n",
       "      <td>8</td>\n",
       "      <td>Wednesday</td>\n",
       "      <td>2</td>\n",
       "      <td>20</td>\n",
       "      <td>30</td>\n",
       "      <td>0</td>\n",
       "      <td>0</td>\n",
       "      <td>0</td>\n",
       "      <td>0</td>\n",
       "      <td>1</td>\n",
       "    </tr>\n",
       "    <tr>\n",
       "      <th>2775</th>\n",
       "      <td>7</td>\n",
       "      <td>Tuesday</td>\n",
       "      <td>1</td>\n",
       "      <td>21</td>\n",
       "      <td>45</td>\n",
       "      <td>0</td>\n",
       "      <td>0</td>\n",
       "      <td>0</td>\n",
       "      <td>0</td>\n",
       "      <td>1</td>\n",
       "    </tr>\n",
       "    <tr>\n",
       "      <th>507</th>\n",
       "      <td>15</td>\n",
       "      <td>Sunday</td>\n",
       "      <td>2</td>\n",
       "      <td>6</td>\n",
       "      <td>45</td>\n",
       "      <td>1</td>\n",
       "      <td>1</td>\n",
       "      <td>0</td>\n",
       "      <td>0</td>\n",
       "      <td>0</td>\n",
       "    </tr>\n",
       "    <tr>\n",
       "      <th>1825</th>\n",
       "      <td>29</td>\n",
       "      <td>Sunday</td>\n",
       "      <td>1</td>\n",
       "      <td>0</td>\n",
       "      <td>15</td>\n",
       "      <td>1</td>\n",
       "      <td>0</td>\n",
       "      <td>1</td>\n",
       "      <td>0</td>\n",
       "      <td>0</td>\n",
       "    </tr>\n",
       "    <tr>\n",
       "      <th>...</th>\n",
       "      <td>...</td>\n",
       "      <td>...</td>\n",
       "      <td>...</td>\n",
       "      <td>...</td>\n",
       "      <td>...</td>\n",
       "      <td>...</td>\n",
       "      <td>...</td>\n",
       "      <td>...</td>\n",
       "      <td>...</td>\n",
       "      <td>...</td>\n",
       "    </tr>\n",
       "    <tr>\n",
       "      <th>2040</th>\n",
       "      <td>31</td>\n",
       "      <td>Tuesday</td>\n",
       "      <td>3</td>\n",
       "      <td>6</td>\n",
       "      <td>0</td>\n",
       "      <td>0</td>\n",
       "      <td>1</td>\n",
       "      <td>0</td>\n",
       "      <td>0</td>\n",
       "      <td>0</td>\n",
       "    </tr>\n",
       "    <tr>\n",
       "      <th>2617</th>\n",
       "      <td>6</td>\n",
       "      <td>Monday</td>\n",
       "      <td>3</td>\n",
       "      <td>6</td>\n",
       "      <td>15</td>\n",
       "      <td>0</td>\n",
       "      <td>1</td>\n",
       "      <td>0</td>\n",
       "      <td>0</td>\n",
       "      <td>0</td>\n",
       "    </tr>\n",
       "    <tr>\n",
       "      <th>678</th>\n",
       "      <td>17</td>\n",
       "      <td>Tuesday</td>\n",
       "      <td>1</td>\n",
       "      <td>1</td>\n",
       "      <td>30</td>\n",
       "      <td>0</td>\n",
       "      <td>0</td>\n",
       "      <td>1</td>\n",
       "      <td>0</td>\n",
       "      <td>0</td>\n",
       "    </tr>\n",
       "    <tr>\n",
       "      <th>605</th>\n",
       "      <td>16</td>\n",
       "      <td>Monday</td>\n",
       "      <td>3</td>\n",
       "      <td>7</td>\n",
       "      <td>15</td>\n",
       "      <td>0</td>\n",
       "      <td>1</td>\n",
       "      <td>0</td>\n",
       "      <td>0</td>\n",
       "      <td>0</td>\n",
       "    </tr>\n",
       "    <tr>\n",
       "      <th>1343</th>\n",
       "      <td>23</td>\n",
       "      <td>Monday</td>\n",
       "      <td>1</td>\n",
       "      <td>23</td>\n",
       "      <td>45</td>\n",
       "      <td>0</td>\n",
       "      <td>0</td>\n",
       "      <td>0</td>\n",
       "      <td>0</td>\n",
       "      <td>1</td>\n",
       "    </tr>\n",
       "  </tbody>\n",
       "</table>\n",
       "<p>596 rows × 10 columns</p>\n",
       "</div>"
      ],
      "text/plain": [
       "      date day_of_the_week  traffic_situation  hour  minute  weekend  \\\n",
       "2404     4        Saturday                  0     1       0        1   \n",
       "2866     8       Wednesday                  2    20      30        0   \n",
       "2775     7         Tuesday                  1    21      45        0   \n",
       "507     15          Sunday                  2     6      45        1   \n",
       "1825    29          Sunday                  1     0      15        1   \n",
       "...    ...             ...                ...   ...     ...      ...   \n",
       "2040    31         Tuesday                  3     6       0        0   \n",
       "2617     6          Monday                  3     6      15        0   \n",
       "678     17         Tuesday                  1     1      30        0   \n",
       "605     16          Monday                  3     7      15        0   \n",
       "1343    23          Monday                  1    23      45        0   \n",
       "\n",
       "      is_morning  is_night  is_day  is_evening  \n",
       "2404           0         1       0           0  \n",
       "2866           0         0       0           1  \n",
       "2775           0         0       0           1  \n",
       "507            1         0       0           0  \n",
       "1825           0         1       0           0  \n",
       "...          ...       ...     ...         ...  \n",
       "2040           1         0       0           0  \n",
       "2617           1         0       0           0  \n",
       "678            0         1       0           0  \n",
       "605            1         0       0           0  \n",
       "1343           0         0       0           1  \n",
       "\n",
       "[596 rows x 10 columns]"
      ]
     },
     "execution_count": 118,
     "metadata": {},
     "output_type": "execute_result"
    }
   ],
   "source": [
    "df_test\n",
    "#df_full_train"
   ]
  },
  {
   "cell_type": "code",
   "execution_count": 119,
   "metadata": {
    "id": "VxEbkq42egJw"
   },
   "outputs": [],
   "source": [
    "df_train = df_train.reset_index(drop=True)\n",
    "df_val = df_val.reset_index(drop=True)\n",
    "df_test = df_test.reset_index(drop=True)\n",
    "\n",
    "#For the final model\n",
    "df_full_train = df_full_train.reset_index(drop=True)\n",
    "df_test = df_test.reset_index(drop=True)"
   ]
  },
  {
   "cell_type": "code",
   "execution_count": 120,
   "metadata": {
    "id": "peI8RYcyejCI"
   },
   "outputs": [],
   "source": [
    "y_train = df_train.traffic_situation.values\n",
    "y_val = df_val.traffic_situation.values\n",
    "y_test = df_test.traffic_situation.values\n",
    "\n",
    "#For the final model\n",
    "y_full_train = df_full_train.traffic_situation.values\n",
    "y_test = df_test.traffic_situation.values"
   ]
  },
  {
   "cell_type": "code",
   "execution_count": 121,
   "metadata": {
    "id": "3H7hQV9PesT7"
   },
   "outputs": [],
   "source": [
    "del df_train['traffic_situation']\n",
    "del df_val['traffic_situation']\n",
    "del df_test['traffic_situation']\n",
    "\n",
    "#For the final model\n",
    "del df_full_train['traffic_situation']"
   ]
  },
  {
   "cell_type": "code",
   "execution_count": 122,
   "metadata": {
    "id": "4pUHhXfEglx3"
   },
   "outputs": [],
   "source": [
    "dv = DictVectorizer(sparse=True)\n",
    "\n",
    "train_dict = df_train.to_dict(orient='records')\n",
    "X_train = dv.fit_transform(train_dict)\n",
    "\n",
    "val_dict = df_val.to_dict(orient='records')\n",
    "X_val = dv.transform(val_dict)"
   ]
  },
  {
   "cell_type": "markdown",
   "metadata": {
    "id": "oDpqzdVHfOb8"
   },
   "source": [
    "# Training the model"
   ]
  },
  {
   "cell_type": "code",
   "execution_count": 123,
   "metadata": {
    "id": "qJ76xCoefSUo"
   },
   "outputs": [],
   "source": [
    "from sklearn.tree import DecisionTreeClassifier\n",
    "from sklearn.metrics import roc_auc_score\n",
    "from sklearn.tree import export_text\n",
    "from sklearn.tree import DecisionTreeRegressor\n",
    "from sklearn.metrics import mean_squared_error\n",
    "from sklearn.ensemble import RandomForestClassifier\n",
    "from sklearn.linear_model import LogisticRegression\n",
    "from sklearn.metrics import accuracy_score\n",
    "from sklearn.linear_model import RidgeClassifier\n",
    "import xgboost as xgb"
   ]
  },
  {
   "cell_type": "markdown",
   "metadata": {},
   "source": [
    "# Using Linear regression Model with default paramters for predicting"
   ]
  },
  {
   "cell_type": "code",
   "execution_count": 124,
   "metadata": {},
   "outputs": [
    {
     "data": {
      "text/html": [
       "<style>#sk-container-id-1 {color: black;}#sk-container-id-1 pre{padding: 0;}#sk-container-id-1 div.sk-toggleable {background-color: white;}#sk-container-id-1 label.sk-toggleable__label {cursor: pointer;display: block;width: 100%;margin-bottom: 0;padding: 0.3em;box-sizing: border-box;text-align: center;}#sk-container-id-1 label.sk-toggleable__label-arrow:before {content: \"▸\";float: left;margin-right: 0.25em;color: #696969;}#sk-container-id-1 label.sk-toggleable__label-arrow:hover:before {color: black;}#sk-container-id-1 div.sk-estimator:hover label.sk-toggleable__label-arrow:before {color: black;}#sk-container-id-1 div.sk-toggleable__content {max-height: 0;max-width: 0;overflow: hidden;text-align: left;background-color: #f0f8ff;}#sk-container-id-1 div.sk-toggleable__content pre {margin: 0.2em;color: black;border-radius: 0.25em;background-color: #f0f8ff;}#sk-container-id-1 input.sk-toggleable__control:checked~div.sk-toggleable__content {max-height: 200px;max-width: 100%;overflow: auto;}#sk-container-id-1 input.sk-toggleable__control:checked~label.sk-toggleable__label-arrow:before {content: \"▾\";}#sk-container-id-1 div.sk-estimator input.sk-toggleable__control:checked~label.sk-toggleable__label {background-color: #d4ebff;}#sk-container-id-1 div.sk-label input.sk-toggleable__control:checked~label.sk-toggleable__label {background-color: #d4ebff;}#sk-container-id-1 input.sk-hidden--visually {border: 0;clip: rect(1px 1px 1px 1px);clip: rect(1px, 1px, 1px, 1px);height: 1px;margin: -1px;overflow: hidden;padding: 0;position: absolute;width: 1px;}#sk-container-id-1 div.sk-estimator {font-family: monospace;background-color: #f0f8ff;border: 1px dotted black;border-radius: 0.25em;box-sizing: border-box;margin-bottom: 0.5em;}#sk-container-id-1 div.sk-estimator:hover {background-color: #d4ebff;}#sk-container-id-1 div.sk-parallel-item::after {content: \"\";width: 100%;border-bottom: 1px solid gray;flex-grow: 1;}#sk-container-id-1 div.sk-label:hover label.sk-toggleable__label {background-color: #d4ebff;}#sk-container-id-1 div.sk-serial::before {content: \"\";position: absolute;border-left: 1px solid gray;box-sizing: border-box;top: 0;bottom: 0;left: 50%;z-index: 0;}#sk-container-id-1 div.sk-serial {display: flex;flex-direction: column;align-items: center;background-color: white;padding-right: 0.2em;padding-left: 0.2em;position: relative;}#sk-container-id-1 div.sk-item {position: relative;z-index: 1;}#sk-container-id-1 div.sk-parallel {display: flex;align-items: stretch;justify-content: center;background-color: white;position: relative;}#sk-container-id-1 div.sk-item::before, #sk-container-id-1 div.sk-parallel-item::before {content: \"\";position: absolute;border-left: 1px solid gray;box-sizing: border-box;top: 0;bottom: 0;left: 50%;z-index: -1;}#sk-container-id-1 div.sk-parallel-item {display: flex;flex-direction: column;z-index: 1;position: relative;background-color: white;}#sk-container-id-1 div.sk-parallel-item:first-child::after {align-self: flex-end;width: 50%;}#sk-container-id-1 div.sk-parallel-item:last-child::after {align-self: flex-start;width: 50%;}#sk-container-id-1 div.sk-parallel-item:only-child::after {width: 0;}#sk-container-id-1 div.sk-dashed-wrapped {border: 1px dashed gray;margin: 0 0.4em 0.5em 0.4em;box-sizing: border-box;padding-bottom: 0.4em;background-color: white;}#sk-container-id-1 div.sk-label label {font-family: monospace;font-weight: bold;display: inline-block;line-height: 1.2em;}#sk-container-id-1 div.sk-label-container {text-align: center;}#sk-container-id-1 div.sk-container {/* jupyter's `normalize.less` sets `[hidden] { display: none; }` but bootstrap.min.css set `[hidden] { display: none !important; }` so we also need the `!important` here to be able to override the default hidden behavior on the sphinx rendered scikit-learn.org. See: https://github.com/scikit-learn/scikit-learn/issues/21755 */display: inline-block !important;position: relative;}#sk-container-id-1 div.sk-text-repr-fallback {display: none;}</style><div id=\"sk-container-id-1\" class=\"sk-top-container\"><div class=\"sk-text-repr-fallback\"><pre>LogisticRegression(max_iter=1000, solver=&#x27;liblinear&#x27;)</pre><b>In a Jupyter environment, please rerun this cell to show the HTML representation or trust the notebook. <br />On GitHub, the HTML representation is unable to render, please try loading this page with nbviewer.org.</b></div><div class=\"sk-container\" hidden><div class=\"sk-item\"><div class=\"sk-estimator sk-toggleable\"><input class=\"sk-toggleable__control sk-hidden--visually\" id=\"sk-estimator-id-1\" type=\"checkbox\" checked><label for=\"sk-estimator-id-1\" class=\"sk-toggleable__label sk-toggleable__label-arrow\">LogisticRegression</label><div class=\"sk-toggleable__content\"><pre>LogisticRegression(max_iter=1000, solver=&#x27;liblinear&#x27;)</pre></div></div></div></div></div>"
      ],
      "text/plain": [
       "LogisticRegression(max_iter=1000, solver='liblinear')"
      ]
     },
     "execution_count": 124,
     "metadata": {},
     "output_type": "execute_result"
    }
   ],
   "source": [
    "model = LogisticRegression(solver='liblinear', C=1.0, max_iter=1000)\n",
    "model.fit(X_train, y_train)"
   ]
  },
  {
   "cell_type": "code",
   "execution_count": 125,
   "metadata": {},
   "outputs": [],
   "source": [
    "y_pred = model.predict(X_val)"
   ]
  },
  {
   "cell_type": "code",
   "execution_count": 126,
   "metadata": {},
   "outputs": [
    {
     "data": {
      "text/plain": [
       "0.6134453781512605"
      ]
     },
     "execution_count": 126,
     "metadata": {},
     "output_type": "execute_result"
    }
   ],
   "source": [
    "accuracy = accuracy_score(y_val, y_pred)\n",
    "accuracy"
   ]
  },
  {
   "cell_type": "markdown",
   "metadata": {},
   "source": [
    "# Finding the best value for Regularization"
   ]
  },
  {
   "cell_type": "code",
   "execution_count": 127,
   "metadata": {},
   "outputs": [
    {
     "name": "stdout",
     "output_type": "stream",
     "text": [
      "C=0.001000, Accuracy=0.563\n",
      "C=0.100000, Accuracy=0.620\n",
      "C=0.500000, Accuracy=0.613\n",
      "C=1.000000, Accuracy=0.613\n",
      "C=5.000000, Accuracy=0.608\n",
      "C=10.000000, Accuracy=0.607\n",
      "C=15.000000, Accuracy=0.608\n",
      "C=100.000000, Accuracy=0.610\n",
      "C=1000.000000, Accuracy=0.610\n"
     ]
    }
   ],
   "source": [
    "scores = []\n",
    "\n",
    "for C in [0.001, 0.1, 0.5, 1.0, 5, 10, 15, 100, 1000]:\n",
    "    model = LogisticRegression(solver='liblinear', C=C, max_iter=1000)\n",
    "    #model = RidgeClassifier(solver='sag', alpha = C, random_state=42)\n",
    "    model.fit(X_train, y_train)\n",
    "    y_pred = model.predict(X_val)\n",
    "    accuracy = accuracy_score(y_val, y_pred)\n",
    "    scores.append((C, accuracy))\n",
    "    print('C=%2f, Accuracy=%.3f' % (C, accuracy))"
   ]
  },
  {
   "cell_type": "markdown",
   "metadata": {},
   "source": [
    "# Using Random Forest for training the model"
   ]
  },
  {
   "cell_type": "code",
   "execution_count": 128,
   "metadata": {},
   "outputs": [
    {
     "data": {
      "text/plain": [
       "0.7361344537815127"
      ]
     },
     "execution_count": 128,
     "metadata": {},
     "output_type": "execute_result"
    }
   ],
   "source": [
    "rf = RandomForestClassifier(n_estimators=100, max_depth=None, random_state=1)\n",
    "rf.fit(X_train, y_train)\n",
    "y_pred = rf.predict(X_val)\n",
    "accuracy = accuracy_score(y_val, y_pred)\n",
    "accuracy"
   ]
  },
  {
   "cell_type": "markdown",
   "metadata": {},
   "source": [
    "# Finding the optimal number of estimators "
   ]
  },
  {
   "cell_type": "code",
   "execution_count": 129,
   "metadata": {},
   "outputs": [],
   "source": [
    "scores = []\n",
    "\n",
    "for n in range(10, 201, 10):\n",
    "    rf = RandomForestClassifier(n_estimators=n, max_depth=None, random_state=1)\n",
    "    rf.fit(X_train, y_train)\n",
    "    y_pred = rf.predict(X_val)\n",
    "    accuracy = accuracy_score(y_val, y_pred)\n",
    "    scores.append(( n, accuracy))"
   ]
  },
  {
   "cell_type": "code",
   "execution_count": 130,
   "metadata": {},
   "outputs": [],
   "source": [
    "df_scores = pd.DataFrame(scores, columns=['n_estimators', 'accuracy'])"
   ]
  },
  {
   "cell_type": "code",
   "execution_count": 131,
   "metadata": {},
   "outputs": [
    {
     "data": {
      "text/plain": [
       "[<matplotlib.lines.Line2D at 0x12e884750>]"
      ]
     },
     "execution_count": 131,
     "metadata": {},
     "output_type": "execute_result"
    },
    {
     "data": {
      "image/png": "[encoded data removed]",
      "text/plain": [
       "<Figure size 640x480 with 1 Axes>"
      ]
     },
     "metadata": {},
     "output_type": "display_data"
    }
   ],
   "source": [
    "plt.plot(df_scores.n_estimators, df_scores.accuracy)"
   ]
  },
  {
   "cell_type": "code",
   "execution_count": 132,
   "metadata": {},
   "outputs": [],
   "source": [
    "scores = []\n",
    "for d in  [None, 5, 10, 15]:\n",
    "    for n in range(10, 201, 10):\n",
    "        rf = RandomForestClassifier(n_estimators=n, max_depth=d, random_state=1)\n",
    "        rf.fit(X_train, y_train)\n",
    "        y_pred = rf.predict(X_val)\n",
    "        accuracy = accuracy_score(y_val, y_pred)\n",
    "        scores.append((d, n, accuracy))"
   ]
  },
  {
   "cell_type": "code",
   "execution_count": 133,
   "metadata": {},
   "outputs": [],
   "source": [
    "df_scores = pd.DataFrame(scores, columns=['max_depth','n_estimators', 'accuracy'])"
   ]
  },
  {
   "cell_type": "code",
   "execution_count": 134,
   "metadata": {},
   "outputs": [
    {
     "data": {
      "text/plain": [
       "<matplotlib.legend.Legend at 0x12e891650>"
      ]
     },
     "execution_count": 134,
     "metadata": {},
     "output_type": "execute_result"
    },
    {
     "data": {
      "image/png": "[encoded data removed]",
      "text/plain": [
       "<Figure size 640x480 with 1 Axes>"
      ]
     },
     "metadata": {},
     "output_type": "display_data"
    }
   ],
   "source": [
    "for d in [None, 5, 10, 15]:\n",
    "    df_subset = df_scores[df_scores.max_depth == d]\n",
    "\n",
    "    plt.plot(df_subset.n_estimators, df_subset.accuracy,\n",
    "             label='max_depth=%s' % d)\n",
    "\n",
    "plt.legend()"
   ]
  },
  {
   "cell_type": "code",
   "execution_count": 135,
   "metadata": {},
   "outputs": [
    {
     "data": {
      "text/html": [
       "<div>\n",
       "<style scoped>\n",
       "    .dataframe tbody tr th:only-of-type {\n",
       "        vertical-align: middle;\n",
       "    }\n",
       "\n",
       "    .dataframe tbody tr th {\n",
       "        vertical-align: top;\n",
       "    }\n",
       "\n",
       "    .dataframe thead tr th {\n",
       "        text-align: left;\n",
       "    }\n",
       "\n",
       "    .dataframe thead tr:last-of-type th {\n",
       "        text-align: right;\n",
       "    }\n",
       "</style>\n",
       "<table border=\"1\" class=\"dataframe\">\n",
       "  <thead>\n",
       "    <tr>\n",
       "      <th></th>\n",
       "      <th colspan=\"4\" halign=\"left\">accuracy</th>\n",
       "    </tr>\n",
       "    <tr>\n",
       "      <th>max_depth</th>\n",
       "      <th>NaN</th>\n",
       "      <th>5.0</th>\n",
       "      <th>10.0</th>\n",
       "      <th>15.0</th>\n",
       "    </tr>\n",
       "    <tr>\n",
       "      <th>n_estimators</th>\n",
       "      <th></th>\n",
       "      <th></th>\n",
       "      <th></th>\n",
       "      <th></th>\n",
       "    </tr>\n",
       "  </thead>\n",
       "  <tbody>\n",
       "    <tr>\n",
       "      <th>10</th>\n",
       "      <td>0.703</td>\n",
       "      <td>0.711</td>\n",
       "      <td>0.758</td>\n",
       "      <td>0.694</td>\n",
       "    </tr>\n",
       "    <tr>\n",
       "      <th>20</th>\n",
       "      <td>0.721</td>\n",
       "      <td>0.716</td>\n",
       "      <td>0.756</td>\n",
       "      <td>0.718</td>\n",
       "    </tr>\n",
       "    <tr>\n",
       "      <th>30</th>\n",
       "      <td>0.724</td>\n",
       "      <td>0.716</td>\n",
       "      <td>0.761</td>\n",
       "      <td>0.724</td>\n",
       "    </tr>\n",
       "    <tr>\n",
       "      <th>40</th>\n",
       "      <td>0.739</td>\n",
       "      <td>0.703</td>\n",
       "      <td>0.765</td>\n",
       "      <td>0.728</td>\n",
       "    </tr>\n",
       "    <tr>\n",
       "      <th>50</th>\n",
       "      <td>0.733</td>\n",
       "      <td>0.711</td>\n",
       "      <td>0.763</td>\n",
       "      <td>0.733</td>\n",
       "    </tr>\n",
       "    <tr>\n",
       "      <th>60</th>\n",
       "      <td>0.733</td>\n",
       "      <td>0.714</td>\n",
       "      <td>0.771</td>\n",
       "      <td>0.729</td>\n",
       "    </tr>\n",
       "    <tr>\n",
       "      <th>70</th>\n",
       "      <td>0.739</td>\n",
       "      <td>0.713</td>\n",
       "      <td>0.773</td>\n",
       "      <td>0.736</td>\n",
       "    </tr>\n",
       "    <tr>\n",
       "      <th>80</th>\n",
       "      <td>0.736</td>\n",
       "      <td>0.713</td>\n",
       "      <td>0.768</td>\n",
       "      <td>0.733</td>\n",
       "    </tr>\n",
       "    <tr>\n",
       "      <th>90</th>\n",
       "      <td>0.743</td>\n",
       "      <td>0.711</td>\n",
       "      <td>0.760</td>\n",
       "      <td>0.736</td>\n",
       "    </tr>\n",
       "    <tr>\n",
       "      <th>100</th>\n",
       "      <td>0.736</td>\n",
       "      <td>0.713</td>\n",
       "      <td>0.763</td>\n",
       "      <td>0.734</td>\n",
       "    </tr>\n",
       "    <tr>\n",
       "      <th>110</th>\n",
       "      <td>0.731</td>\n",
       "      <td>0.709</td>\n",
       "      <td>0.768</td>\n",
       "      <td>0.734</td>\n",
       "    </tr>\n",
       "    <tr>\n",
       "      <th>120</th>\n",
       "      <td>0.738</td>\n",
       "      <td>0.711</td>\n",
       "      <td>0.765</td>\n",
       "      <td>0.738</td>\n",
       "    </tr>\n",
       "    <tr>\n",
       "      <th>130</th>\n",
       "      <td>0.734</td>\n",
       "      <td>0.711</td>\n",
       "      <td>0.765</td>\n",
       "      <td>0.741</td>\n",
       "    </tr>\n",
       "    <tr>\n",
       "      <th>140</th>\n",
       "      <td>0.731</td>\n",
       "      <td>0.713</td>\n",
       "      <td>0.766</td>\n",
       "      <td>0.739</td>\n",
       "    </tr>\n",
       "    <tr>\n",
       "      <th>150</th>\n",
       "      <td>0.731</td>\n",
       "      <td>0.709</td>\n",
       "      <td>0.763</td>\n",
       "      <td>0.738</td>\n",
       "    </tr>\n",
       "    <tr>\n",
       "      <th>160</th>\n",
       "      <td>0.733</td>\n",
       "      <td>0.709</td>\n",
       "      <td>0.763</td>\n",
       "      <td>0.734</td>\n",
       "    </tr>\n",
       "    <tr>\n",
       "      <th>170</th>\n",
       "      <td>0.731</td>\n",
       "      <td>0.709</td>\n",
       "      <td>0.763</td>\n",
       "      <td>0.741</td>\n",
       "    </tr>\n",
       "    <tr>\n",
       "      <th>180</th>\n",
       "      <td>0.726</td>\n",
       "      <td>0.711</td>\n",
       "      <td>0.765</td>\n",
       "      <td>0.738</td>\n",
       "    </tr>\n",
       "    <tr>\n",
       "      <th>190</th>\n",
       "      <td>0.729</td>\n",
       "      <td>0.711</td>\n",
       "      <td>0.765</td>\n",
       "      <td>0.736</td>\n",
       "    </tr>\n",
       "    <tr>\n",
       "      <th>200</th>\n",
       "      <td>0.733</td>\n",
       "      <td>0.711</td>\n",
       "      <td>0.761</td>\n",
       "      <td>0.739</td>\n",
       "    </tr>\n",
       "  </tbody>\n",
       "</table>\n",
       "</div>"
      ],
      "text/plain": [
       "             accuracy                     \n",
       "max_depth         NaN   5.0    10.0   15.0\n",
       "n_estimators                              \n",
       "10              0.703  0.711  0.758  0.694\n",
       "20              0.721  0.716  0.756  0.718\n",
       "30              0.724  0.716  0.761  0.724\n",
       "40              0.739  0.703  0.765  0.728\n",
       "50              0.733  0.711  0.763  0.733\n",
       "60              0.733  0.714  0.771  0.729\n",
       "70              0.739  0.713  0.773  0.736\n",
       "80              0.736  0.713  0.768  0.733\n",
       "90              0.743  0.711  0.760  0.736\n",
       "100             0.736  0.713  0.763  0.734\n",
       "110             0.731  0.709  0.768  0.734\n",
       "120             0.738  0.711  0.765  0.738\n",
       "130             0.734  0.711  0.765  0.741\n",
       "140             0.731  0.713  0.766  0.739\n",
       "150             0.731  0.709  0.763  0.738\n",
       "160             0.733  0.709  0.763  0.734\n",
       "170             0.731  0.709  0.763  0.741\n",
       "180             0.726  0.711  0.765  0.738\n",
       "190             0.729  0.711  0.765  0.736\n",
       "200             0.733  0.711  0.761  0.739"
      ]
     },
     "execution_count": 135,
     "metadata": {},
     "output_type": "execute_result"
    }
   ],
   "source": [
    "df_scores_pivot = df_scores.pivot(index='n_estimators', columns=['max_depth'], values=['accuracy'])\n",
    "df_scores_pivot.round(3)"
   ]
  },
  {
   "cell_type": "markdown",
   "metadata": {},
   "source": [
    "# Decision Tree"
   ]
  },
  {
   "cell_type": "code",
   "execution_count": 136,
   "metadata": {},
   "outputs": [
    {
     "name": "stdout",
     "output_type": "stream",
     "text": [
      "   1 -> 0.563\n",
      "   2 -> 0.632\n",
      "   3 -> 0.629\n",
      "   4 -> 0.639\n",
      "   5 -> 0.733\n",
      "   6 -> 0.750\n",
      "  10 -> 0.726\n",
      "  15 -> 0.650\n",
      "  20 -> 0.637\n",
      "None -> 0.632\n"
     ]
    }
   ],
   "source": [
    "depths = [1, 2, 3, 4, 5, 6, 10, 15, 20, None]\n",
    "\n",
    "for depth in depths:\n",
    "    dt = DecisionTreeClassifier(max_depth=depth)\n",
    "    dt.fit(X_train, y_train)\n",
    "\n",
    "    y_pred = dt.predict(X_val)\n",
    "    accuracy = accuracy_score(y_val, y_pred)\n",
    "\n",
    "    print('%4s -> %.3f' % (depth, accuracy))"
   ]
  },
  {
   "cell_type": "code",
   "execution_count": 137,
   "metadata": {},
   "outputs": [],
   "source": [
    "scores = []\n",
    "\n",
    "for depth in [4, 5, 6, 10]:\n",
    "    for s in [1, 5, 10, 15, 20, 500, 100, 200]:\n",
    "        dt = DecisionTreeClassifier(max_depth=depth, min_samples_leaf=s)\n",
    "        dt.fit(X_train, y_train)\n",
    "\n",
    "        y_pred = dt.predict(X_val)\n",
    "        accuracy = accuracy_score(y_val, y_pred)\n",
    "\n",
    "        scores.append((depth, s, accuracy))"
   ]
  },
  {
   "cell_type": "code",
   "execution_count": 138,
   "metadata": {},
   "outputs": [],
   "source": [
    "columns = ['max_depth', 'min_samples_leaf', 'accuracy']\n",
    "df_scores = pd.DataFrame(scores, columns=columns)"
   ]
  },
  {
   "cell_type": "code",
   "execution_count": 139,
   "metadata": {},
   "outputs": [
    {
     "data": {
      "text/html": [
       "<div>\n",
       "<style scoped>\n",
       "    .dataframe tbody tr th:only-of-type {\n",
       "        vertical-align: middle;\n",
       "    }\n",
       "\n",
       "    .dataframe tbody tr th {\n",
       "        vertical-align: top;\n",
       "    }\n",
       "\n",
       "    .dataframe thead tr th {\n",
       "        text-align: left;\n",
       "    }\n",
       "\n",
       "    .dataframe thead tr:last-of-type th {\n",
       "        text-align: right;\n",
       "    }\n",
       "</style>\n",
       "<table border=\"1\" class=\"dataframe\">\n",
       "  <thead>\n",
       "    <tr>\n",
       "      <th></th>\n",
       "      <th colspan=\"4\" halign=\"left\">accuracy</th>\n",
       "    </tr>\n",
       "    <tr>\n",
       "      <th>max_depth</th>\n",
       "      <th>4</th>\n",
       "      <th>5</th>\n",
       "      <th>6</th>\n",
       "      <th>10</th>\n",
       "    </tr>\n",
       "    <tr>\n",
       "      <th>min_samples_leaf</th>\n",
       "      <th></th>\n",
       "      <th></th>\n",
       "      <th></th>\n",
       "      <th></th>\n",
       "    </tr>\n",
       "  </thead>\n",
       "  <tbody>\n",
       "    <tr>\n",
       "      <th>1</th>\n",
       "      <td>0.639</td>\n",
       "      <td>0.731</td>\n",
       "      <td>0.750</td>\n",
       "      <td>0.724</td>\n",
       "    </tr>\n",
       "    <tr>\n",
       "      <th>5</th>\n",
       "      <td>0.639</td>\n",
       "      <td>0.729</td>\n",
       "      <td>0.750</td>\n",
       "      <td>0.750</td>\n",
       "    </tr>\n",
       "    <tr>\n",
       "      <th>10</th>\n",
       "      <td>0.632</td>\n",
       "      <td>0.723</td>\n",
       "      <td>0.739</td>\n",
       "      <td>0.751</td>\n",
       "    </tr>\n",
       "    <tr>\n",
       "      <th>15</th>\n",
       "      <td>0.644</td>\n",
       "      <td>0.739</td>\n",
       "      <td>0.750</td>\n",
       "      <td>0.768</td>\n",
       "    </tr>\n",
       "    <tr>\n",
       "      <th>20</th>\n",
       "      <td>0.644</td>\n",
       "      <td>0.739</td>\n",
       "      <td>0.750</td>\n",
       "      <td>0.745</td>\n",
       "    </tr>\n",
       "    <tr>\n",
       "      <th>100</th>\n",
       "      <td>0.637</td>\n",
       "      <td>0.692</td>\n",
       "      <td>0.682</td>\n",
       "      <td>0.682</td>\n",
       "    </tr>\n",
       "    <tr>\n",
       "      <th>200</th>\n",
       "      <td>0.692</td>\n",
       "      <td>0.692</td>\n",
       "      <td>0.692</td>\n",
       "      <td>0.692</td>\n",
       "    </tr>\n",
       "    <tr>\n",
       "      <th>500</th>\n",
       "      <td>0.563</td>\n",
       "      <td>0.563</td>\n",
       "      <td>0.563</td>\n",
       "      <td>0.563</td>\n",
       "    </tr>\n",
       "  </tbody>\n",
       "</table>\n",
       "</div>"
      ],
      "text/plain": [
       "                 accuracy                     \n",
       "max_depth              4      5      6      10\n",
       "min_samples_leaf                              \n",
       "1                   0.639  0.731  0.750  0.724\n",
       "5                   0.639  0.729  0.750  0.750\n",
       "10                  0.632  0.723  0.739  0.751\n",
       "15                  0.644  0.739  0.750  0.768\n",
       "20                  0.644  0.739  0.750  0.745\n",
       "100                 0.637  0.692  0.682  0.682\n",
       "200                 0.692  0.692  0.692  0.692\n",
       "500                 0.563  0.563  0.563  0.563"
      ]
     },
     "execution_count": 139,
     "metadata": {},
     "output_type": "execute_result"
    }
   ],
   "source": [
    "df_scores_pivot = df_scores.pivot(index='min_samples_leaf', columns=['max_depth'], values=['accuracy'])\n",
    "df_scores_pivot.round(3)"
   ]
  },
  {
   "cell_type": "code",
   "execution_count": 140,
   "metadata": {},
   "outputs": [
    {
     "data": {
      "text/plain": [
       "<Axes: xlabel='None-max_depth', ylabel='min_samples_leaf'>"
      ]
     },
     "execution_count": 140,
     "metadata": {},
     "output_type": "execute_result"
    },
    {
     "data": {
      "image/png": "[encoded data removed]",
      "text/plain": [
       "<Figure size 640x480 with 2 Axes>"
      ]
     },
     "metadata": {},
     "output_type": "display_data"
    }
   ],
   "source": [
    "sns.heatmap(df_scores_pivot, annot=True, fmt=\".3f\")"
   ]
  },
  {
   "cell_type": "markdown",
   "metadata": {},
   "source": [
    "# Training the final selected model "
   ]
  },
  {
   "cell_type": "code",
   "execution_count": 141,
   "metadata": {},
   "outputs": [],
   "source": [
    "dicts_full_train = df_full_train.to_dict(orient='records')\n",
    "\n",
    "dv = DictVectorizer(sparse=False)\n",
    "X_full_train = dv.fit_transform(dicts_full_train)\n",
    "\n",
    "dicts_test = df_test.to_dict(orient='records')\n",
    "X_test = dv.transform(dicts_test)"
   ]
  },
  {
   "cell_type": "code",
   "execution_count": 142,
   "metadata": {},
   "outputs": [
    {
     "data": {
      "text/plain": [
       "0.7063758389261745"
      ]
     },
     "execution_count": 142,
     "metadata": {},
     "output_type": "execute_result"
    }
   ],
   "source": [
    "rf = RandomForestClassifier(n_estimators=80, max_depth=10, random_state=1, class_weight='balanced')\n",
    "rf.fit(X_full_train, y_full_train)\n",
    "y_pred = rf.predict(X_test)\n",
    "accuracy = accuracy_score(y_test, y_pred)\n",
    "accuracy"
   ]
  },
  {
   "cell_type": "markdown",
   "metadata": {},
   "source": [
    "# Saving the Model to a Python file"
   ]
  },
  {
   "cell_type": "code",
   "execution_count": 143,
   "metadata": {},
   "outputs": [],
   "source": [
    "import pickle"
   ]
  },
  {
   "cell_type": "code",
   "execution_count": 144,
   "metadata": {},
   "outputs": [
    {
     "data": {
      "text/plain": [
       "'model.bin'"
      ]
     },
     "execution_count": 144,
     "metadata": {},
     "output_type": "execute_result"
    }
   ],
   "source": [
    "output_file = 'model.bin'\n",
    "output_file"
   ]
  },
  {
   "cell_type": "code",
   "execution_count": 145,
   "metadata": {},
   "outputs": [],
   "source": [
    "f_out = open(output_file, 'wb')\n",
    "pickle.dump((dv, rf), f_out)\n",
    "f_out.close()"
   ]
  },
  {
   "cell_type": "code",
   "execution_count": 146,
   "metadata": {},
   "outputs": [],
   "source": [
    "with open(output_file, 'wb') as f_out:\n",
    "    pickle.dump((dv, rf), f_out)"
   ]
  },
  {
   "cell_type": "markdown",
   "metadata": {},
   "source": [
    "# Load a model"
   ]
  },
  {
   "cell_type": "code",
   "execution_count": 147,
   "metadata": {},
   "outputs": [],
   "source": [
    "import pickle"
   ]
  },
  {
   "cell_type": "code",
   "execution_count": 148,
   "metadata": {},
   "outputs": [],
   "source": [
    "model_file = 'model.bin'"
   ]
  },
  {
   "cell_type": "code",
   "execution_count": 149,
   "metadata": {},
   "outputs": [],
   "source": [
    "with open(model_file, 'rb') as f_in:\n",
    "    dv, rf = pickle.load(f_in)"
   ]
  },
  {
   "cell_type": "code",
   "execution_count": 150,
   "metadata": {},
   "outputs": [
    {
     "data": {
      "text/plain": [
       "(DictVectorizer(sparse=False),\n",
       " RandomForestClassifier(class_weight='balanced', max_depth=10, n_estimators=80,\n",
       "                        random_state=1))"
      ]
     },
     "execution_count": 150,
     "metadata": {},
     "output_type": "execute_result"
    }
   ],
   "source": [
    "dv, rf"
   ]
  },
  {
   "cell_type": "code",
   "execution_count": 151,
   "metadata": {},
   "outputs": [],
   "source": [
    "input = {\n",
    "    'hour': 14,\n",
    "    'minute': 00,\n",
    "    'day_of_the_week': \"Wednesday\"\n",
    "}"
   ]
  },
  {
   "cell_type": "code",
   "execution_count": 152,
   "metadata": {},
   "outputs": [
    {
     "data": {
      "text/plain": [
       "array([[ 0.,  0.,  0.,  0.,  0.,  0.,  0.,  1., 14.,  0.,  0.,  0.,  0.,\n",
       "         0.,  0.]])"
      ]
     },
     "execution_count": 152,
     "metadata": {},
     "output_type": "execute_result"
    }
   ],
   "source": [
    "x = dv.transform([input])\n",
    "x"
   ]
  },
  {
   "cell_type": "code",
   "execution_count": 153,
   "metadata": {},
   "outputs": [
    {
     "data": {
      "text/plain": [
       "array([1])"
      ]
     },
     "execution_count": 153,
     "metadata": {},
     "output_type": "execute_result"
    }
   ],
   "source": [
    "y = rf.predict(x)\n",
    "y"
   ]
  },
  {
   "cell_type": "code",
   "execution_count": 154,
   "metadata": {},
   "outputs": [],
   "source": [
    "#traffic_situation_mapping = {'low': 0, 'normal': 1, 'high': 2, 'heavy':3}"
   ]
  }
 ],
 "metadata": {
  "colab": {
   "provenance": []
  },
  "kernelspec": {
   "display_name": "Python 3 (ipykernel)",
   "language": "python",
   "name": "python3"
  },
  "language_info": {
   "codemirror_mode": {
    "name": "ipython",
    "version": 3
   },
   "file_extension": ".py",
   "mimetype": "text/x-python",
   "name": "python",
   "nbconvert_exporter": "python",
   "pygments_lexer": "ipython3",
   "version": "3.11.5"
  }
 },
 "nbformat": 4,
 "nbformat_minor": 4
}
